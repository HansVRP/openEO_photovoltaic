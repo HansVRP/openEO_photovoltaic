{
 "cells": [
  {
   "cell_type": "markdown",
   "id": "3f7d7b97-e091-42c0-9d4a-20fd97bdeaf3",
   "metadata": {},
   "source": [
    "# openEO Platform - Photovoltaic Farms Mapping"
   ]
  },
  {
   "cell_type": "code",
   "execution_count": 1,
   "id": "cde2ac95-a679-40c5-9f82-4433871840a3",
   "metadata": {
    "tags": []
   },
   "outputs": [],
   "source": [
    "import os\n",
    "import numpy as np\n",
    "import geopandas as gpd\n",
    "import leafmap\n",
    "import openeo\n",
    "from openeo.processes import lte\n",
    "import xarray as xr\n",
    "import matplotlib.pyplot as plt"
   ]
  },
  {
   "cell_type": "markdown",
   "id": "30e35883-be4d-450f-8e40-5792dc0c9998",
   "metadata": {},
   "source": [
    "Load the PV farms geometries returned by Open Street Map for Austria."
   ]
  },
  {
   "cell_type": "code",
   "execution_count": 4,
   "id": "553e263e-483f-4cab-b524-20ac49c88df5",
   "metadata": {
    "tags": []
   },
   "outputs": [],
   "source": [
    "pv_geoms = gpd.read_file(\"./data/shapefiles/photovoltaic.shp\")"
   ]
  },
  {
   "cell_type": "markdown",
   "id": "b8dbdaa3-e64c-447b-b73b-1d23cc51d5cd",
   "metadata": {},
   "source": [
    "Filtering by size, keeping only the polygons covering a large area (how to defined \"large\"?):"
   ]
  },
  {
   "cell_type": "code",
   "execution_count": 5,
   "id": "7a62c4c5-861a-4715-a4bd-535a307c91ac",
   "metadata": {
    "tags": []
   },
   "outputs": [
    {
     "name": "stdout",
     "output_type": "stream",
     "text": [
      "Number of selected PV Farms: 43\n"
     ]
    }
   ],
   "source": [
    "threshold_area = 5000 #m^2 ~50mx100m\n",
    "pv_geoms_32632 = pv_geoms.to_crs(32632)\n",
    "big_pv_geoms_32632 = pv_geoms_32632.where(pv_geoms_32632[\"geometry\"].area > threshold_area).dropna()\n",
    "big_pv_geoms = big_pv_geoms_32632.to_crs(4326)\n",
    "print(f\"Number of selected PV Farms: {len(big_pv_geoms)}\")"
   ]
  },
  {
   "cell_type": "markdown",
   "id": "a1255f98-82e8-4124-97e6-15006b4279d5",
   "metadata": {},
   "source": [
    "Visualize a couple of PV Farms polygons:"
   ]
  },
  {
   "cell_type": "code",
   "execution_count": 3,
   "id": "373d75fd-e39e-44ea-a4a2-f82ff1c54f9b",
   "metadata": {
    "tags": []
   },
   "outputs": [
    {
     "data": {
      "application/vnd.jupyter.widget-view+json": {
       "model_id": "021d6de9c36f482fa6a7c11ebd2ba660",
       "version_major": 2,
       "version_minor": 0
      },
      "text/plain": [
       "Map(center=[48.087, 14.51], controls=(ZoomControl(options=['position', 'zoom_in_text', 'zoom_in_title', 'zoom_…"
      ]
     },
     "execution_count": 3,
     "metadata": {},
     "output_type": "execute_result"
    }
   ],
   "source": [
    "m = leafmap.Map(center=[48.087, 14.51], zoom=17,basemap=\"Esri.WorldImagery\")\n",
    "m.add_gdf(big_pv_geoms, layer_name=\"PV\")\n",
    "m"
   ]
  },
  {
   "cell_type": "markdown",
   "id": "c5d9230d-39b4-45a4-9b18-d87a942ea27b",
   "metadata": {},
   "source": [
    "We would like to understand where the PV farms are located, in particular if they are on grasslands or in built-up areas.\n",
    "\n",
    "To do so, we download from openEO Platform the land cover/land use layer for each polygon and evaluate it.\n",
    "\n",
    "We use WorldCover at 10 meter resolution:\n",
    "\n",
    "1. https://esa-worldcover.org/en\n",
    "2. https://data.apps.fao.org/catalog/dataset/8cf69f76-1be0-4339-a0b0-18a93c7f4760\n",
    "3. https://worldcover2021.esa.int/"
   ]
  },
  {
   "cell_type": "code",
   "execution_count": 7,
   "id": "25da6128-0385-4b59-ab9b-b85dc29bb07e",
   "metadata": {},
   "outputs": [
    {
     "name": "stdout",
     "output_type": "stream",
     "text": [
      "Authenticated using refresh token.\n"
     ]
    }
   ],
   "source": [
    "conn = openeo.connect(\"openeo.cloud\").authenticate_oidc()"
   ]
  },
  {
   "cell_type": "code",
   "execution_count": null,
   "id": "b4c29a29-2715-4765-937b-a6648eed22ac",
   "metadata": {},
   "outputs": [],
   "source": [
    "## Download LCLU Maps\n",
    "for i, geom in big_pv_geoms_32632.iterrows():\n",
    "\n",
    "    if os.path.exists(f\"./data/lclu/lclu_2021_{i}.nc\"):\n",
    "        continue\n",
    "    \n",
    "    # Apply a buffer of 20 meters around our PV farm polygon to get some pixels around it, useful for later.\n",
    "    aoi = np.round(geom[\"geometry\"].buffer(20).bounds,-1)\n",
    "    collection = \"ESA_WORLDCOVER_10M_2021_V2\"\n",
    "    \n",
    "    spatial_extent = {\"west\": aoi[0],\n",
    "                      \"east\": aoi[2],\n",
    "                      \"south\": aoi[1],\n",
    "                      \"north\": aoi[3],\n",
    "                     \"crs\":\"EPSG:32632\"}\n",
    "    \n",
    "    lclu_bands = [\"MAP\"]\n",
    "    \n",
    "    lclu_cube = conn.load_collection(\n",
    "        collection,\n",
    "        spatial_extent = spatial_extent,\n",
    "        bands = lclu_bands,\n",
    "    )\n",
    "    \n",
    "    try:\n",
    "        lclu_cube.download(f\"./data/lclu/lclu_2021_{i}.nc\")\n",
    "    except:\n",
    "        continue\n",
    "    "
   ]
  },
  {
   "cell_type": "code",
   "execution_count": 12,
   "id": "eb3be73e-399b-484f-9ddb-faf47383d337",
   "metadata": {
    "tags": []
   },
   "outputs": [],
   "source": [
    "lclu_dict = {10:\"Tree cover\", 20:\"Shrubland\", 30:\"Grassland\",\n",
    "            40:\"Cropland\", 50:\"Built-up\", 60:\"Bare / sparse vegetation\",\n",
    "            70:\"Snow and Ice\", 80:\"Permanent water bodies\", 90:\"Herbaceous Wetland\",\n",
    "            95:\"Mangrove\" , 100:\"Moss and lichen\"}"
   ]
  },
  {
   "cell_type": "markdown",
   "id": "f5805a3f-b06f-4508-a36d-968b250ffd1d",
   "metadata": {},
   "source": [
    "Map each polygon with its corresponding class:"
   ]
  },
  {
   "cell_type": "code",
   "execution_count": 10,
   "id": "452c5115-00c9-494f-84f0-d055076bda1c",
   "metadata": {
    "tags": []
   },
   "outputs": [],
   "source": [
    "from scipy.stats import mode\n",
    "LCLU_values = []\n",
    "ids = []\n",
    "for i, geom in big_pv_geoms_32632.iterrows():\n",
    "    if os.path.exists(f\"./data/lclu/lclu_2021_{i}.nc\"):\n",
    "\n",
    "        data = xr.open_dataset(f\"./data/lclu/lclu_2021_{i}.nc\",decode_coords=\"all\")\n",
    "        \n",
    "        geodf = gpd.GeoDataFrame(geometry=[geom[\"geometry\"]],crs=\"EPSG:32632\")\n",
    "        clipped = data.rio.clip(geodf.geometry.values, geodf.crs, drop=False, invert=False)\n",
    "        arr = clipped.to_array().values.ravel()\n",
    "        \n",
    "        result = mode(arr, nan_policy = 'omit')\n",
    "        mode_value = int(result.mode)\n",
    "        LCLU_values.append(mode_value)\n",
    "        ids.append(i)"
   ]
  },
  {
   "cell_type": "code",
   "execution_count": 13,
   "id": "eb67c272-b4ed-4497-9d2b-2a996ba47bf0",
   "metadata": {
    "tags": []
   },
   "outputs": [
    {
     "data": {
      "text/html": [
       "<div>\n",
       "<style scoped>\n",
       "    .dataframe tbody tr th:only-of-type {\n",
       "        vertical-align: middle;\n",
       "    }\n",
       "\n",
       "    .dataframe tbody tr th {\n",
       "        vertical-align: top;\n",
       "    }\n",
       "\n",
       "    .dataframe thead th {\n",
       "        text-align: right;\n",
       "    }\n",
       "</style>\n",
       "<table border=\"1\" class=\"dataframe\">\n",
       "  <thead>\n",
       "    <tr style=\"text-align: right;\">\n",
       "      <th></th>\n",
       "      <th>id</th>\n",
       "      <th>geometry</th>\n",
       "      <th>land_cover</th>\n",
       "    </tr>\n",
       "  </thead>\n",
       "  <tbody>\n",
       "    <tr>\n",
       "      <th>1</th>\n",
       "      <td>1.0</td>\n",
       "      <td>POLYGON ((822310.925 5186627.453, 822274.692 5...</td>\n",
       "      <td>Grassland</td>\n",
       "    </tr>\n",
       "    <tr>\n",
       "      <th>9</th>\n",
       "      <td>9.0</td>\n",
       "      <td>POLYGON ((564230.921 5231117.798, 564270.245 5...</td>\n",
       "      <td>Grassland</td>\n",
       "    </tr>\n",
       "    <tr>\n",
       "      <th>31</th>\n",
       "      <td>31.0</td>\n",
       "      <td>POLYGON ((1017573.230 5195699.612, 1017475.496...</td>\n",
       "      <td>Grassland</td>\n",
       "    </tr>\n",
       "    <tr>\n",
       "      <th>101</th>\n",
       "      <td>101.0</td>\n",
       "      <td>POLYGON ((926647.803 5240659.558, 926591.791 5...</td>\n",
       "      <td>Grassland</td>\n",
       "    </tr>\n",
       "    <tr>\n",
       "      <th>102</th>\n",
       "      <td>102.0</td>\n",
       "      <td>POLYGON ((555566.174 5264751.447, 555586.562 5...</td>\n",
       "      <td>Built-up</td>\n",
       "    </tr>\n",
       "  </tbody>\n",
       "</table>\n",
       "</div>"
      ],
      "text/plain": [
       "        id                                           geometry land_cover\n",
       "1      1.0  POLYGON ((822310.925 5186627.453, 822274.692 5...  Grassland\n",
       "9      9.0  POLYGON ((564230.921 5231117.798, 564270.245 5...  Grassland\n",
       "31    31.0  POLYGON ((1017573.230 5195699.612, 1017475.496...  Grassland\n",
       "101  101.0  POLYGON ((926647.803 5240659.558, 926591.791 5...  Grassland\n",
       "102  102.0  POLYGON ((555566.174 5264751.447, 555586.562 5...   Built-up"
      ]
     },
     "execution_count": 13,
     "metadata": {},
     "output_type": "execute_result"
    }
   ],
   "source": [
    "big_pv_geoms_32632['land_cover'] = LCLU_values\n",
    "big_pv_geoms_32632['land_cover'] = big_pv_geoms_32632['land_cover'].map(lclu_dict)\n",
    "big_pv_geoms_32632.head(5)"
   ]
  },
  {
   "cell_type": "markdown",
   "id": "d676d863-34a6-43c4-be66-d84e69f3ace0",
   "metadata": {},
   "source": [
    "Plot the land cover distribution among our samples:"
   ]
  },
  {
   "cell_type": "code",
   "execution_count": 15,
   "id": "7f4aa44d-1ac5-4c30-b816-f1401f6849de",
   "metadata": {
    "tags": []
   },
   "outputs": [
    {
     "data": {
      "image/png": "[encoded data removed]",
      "text/plain": [
       "<Figure size 1000x600 with 1 Axes>"
      ]
     },
     "metadata": {},
     "output_type": "display_data"
    }
   ],
   "source": [
    "# Count the occurrences of each land type\n",
    "land_type_counts = big_pv_geoms_32632['land_cover'].value_counts()\n",
    "\n",
    "# Create a bar plot\n",
    "plt.figure(figsize=(10, 6))\n",
    "land_type_counts.sort_index().plot(kind='bar', color='skyblue')\n",
    "plt.title('Land Type Distribution')\n",
    "plt.xlabel('Land Type')\n",
    "plt.ylabel('Count')\n",
    "plt.show()"
   ]
  },
  {
   "cell_type": "markdown",
   "id": "8f3847d0-2e08-426f-80f8-5f785718e74c",
   "metadata": {},
   "source": [
    "We notice that there might be PV farms on water, we can investigate further:"
   ]
  },
  {
   "cell_type": "markdown",
   "id": "0837120e-16f2-43ea-809c-d303e5d99a69",
   "metadata": {},
   "source": [
    "#### Plot PVs over water"
   ]
  },
  {
   "cell_type": "code",
   "execution_count": 14,
   "id": "2bec63e6-7ec7-48b6-a629-81d682d2c34f",
   "metadata": {
    "tags": []
   },
   "outputs": [
    {
     "data": {
      "text/html": [
       "<div>\n",
       "<style scoped>\n",
       "    .dataframe tbody tr th:only-of-type {\n",
       "        vertical-align: middle;\n",
       "    }\n",
       "\n",
       "    .dataframe tbody tr th {\n",
       "        vertical-align: top;\n",
       "    }\n",
       "\n",
       "    .dataframe thead th {\n",
       "        text-align: right;\n",
       "    }\n",
       "</style>\n",
       "<table border=\"1\" class=\"dataframe\">\n",
       "  <thead>\n",
       "    <tr style=\"text-align: right;\">\n",
       "      <th></th>\n",
       "      <th>id</th>\n",
       "      <th>geometry</th>\n",
       "      <th>land_cover</th>\n",
       "      <th>centroid</th>\n",
       "    </tr>\n",
       "  </thead>\n",
       "  <tbody>\n",
       "    <tr>\n",
       "      <th>1913</th>\n",
       "      <td>1919.0</td>\n",
       "      <td>POLYGON ((15.76669 48.42499, 15.76896 48.42475...</td>\n",
       "      <td>Permanent water bodies</td>\n",
       "      <td>POINT (15.76969 48.42390)</td>\n",
       "    </tr>\n",
       "    <tr>\n",
       "      <th>1933</th>\n",
       "      <td>1939.0</td>\n",
       "      <td>POLYGON ((15.76434 48.42046, 15.77259 48.42003...</td>\n",
       "      <td>Permanent water bodies</td>\n",
       "      <td>POINT (15.76839 48.41961)</td>\n",
       "    </tr>\n",
       "  </tbody>\n",
       "</table>\n",
       "</div>"
      ],
      "text/plain": [
       "          id                                           geometry  \\\n",
       "1913  1919.0  POLYGON ((15.76669 48.42499, 15.76896 48.42475...   \n",
       "1933  1939.0  POLYGON ((15.76434 48.42046, 15.77259 48.42003...   \n",
       "\n",
       "                  land_cover                   centroid  \n",
       "1913  Permanent water bodies  POINT (15.76969 48.42390)  \n",
       "1933  Permanent water bodies  POINT (15.76839 48.41961)  "
      ]
     },
     "execution_count": 14,
     "metadata": {},
     "output_type": "execute_result"
    }
   ],
   "source": [
    "big_pv_geoms_water = big_pv_geoms_32632[big_pv_geoms_32632['land_cover']=='Permanent water bodies']\n",
    "big_pv_geoms_water = big_pv_geoms_water.to_crs(4326)\n",
    "big_pv_geoms_water['centroid'] = big_pv_geoms_water['geometry'].centroid\n",
    "big_pv_geoms_water"
   ]
  },
  {
   "cell_type": "code",
   "execution_count": 15,
   "id": "81093909-edd9-4df4-930b-368f7ff76348",
   "metadata": {
    "tags": []
   },
   "outputs": [
    {
     "data": {
      "application/vnd.jupyter.widget-view+json": {
       "model_id": "08379670570d45d2b6b7c73ce38c7dcf",
       "version_major": 2,
       "version_minor": 0
      },
      "text/plain": [
       "Map(center=[48.4239, 15.76969], controls=(ZoomControl(options=['position', 'zoom_in_text', 'zoom_in_title', 'z…"
      ]
     },
     "execution_count": 15,
     "metadata": {},
     "output_type": "execute_result"
    }
   ],
   "source": [
    "## Plot over water\n",
    "m = leafmap.Map(center=[48.42390, 15.76969], zoom=17,basemap=\"Esri.WorldImagery\")\n",
    "m.add_gdf(big_pv_geoms, layer_name=\"PV\")\n",
    "m"
   ]
  },
  {
   "cell_type": "markdown",
   "id": "7cacfdb3-6459-4470-a8ff-707a702ed58b",
   "metadata": {},
   "source": [
    "SentinelHub Viewer: https://apps.sentinel-hub.com/sentinel-playground/?source=S2L2A&lat=48.422244752413604&lng=15.768899917602539&zoom=16&preset=1_TRUE_COLOR&layers=B01,B02,B03&maxcc=20&gain=1.0&gamma=1.0&time=2023-05-01%7C2023-11-29&atmFilter=&showDates=false"
   ]
  },
  {
   "cell_type": "markdown",
   "id": "d6844c31-133f-4058-b2e9-79608d105dd8",
   "metadata": {},
   "source": [
    "#### Plot PVs over Built-up area \n"
   ]
  },
  {
   "cell_type": "code",
   "execution_count": 16,
   "id": "2d8419ff-f8d7-4448-bccf-5ad831337da6",
   "metadata": {
    "tags": []
   },
   "outputs": [
    {
     "data": {
      "text/html": [
       "<div>\n",
       "<style scoped>\n",
       "    .dataframe tbody tr th:only-of-type {\n",
       "        vertical-align: middle;\n",
       "    }\n",
       "\n",
       "    .dataframe tbody tr th {\n",
       "        vertical-align: top;\n",
       "    }\n",
       "\n",
       "    .dataframe thead th {\n",
       "        text-align: right;\n",
       "    }\n",
       "</style>\n",
       "<table border=\"1\" class=\"dataframe\">\n",
       "  <thead>\n",
       "    <tr style=\"text-align: right;\">\n",
       "      <th></th>\n",
       "      <th>id</th>\n",
       "      <th>geometry</th>\n",
       "      <th>land_cover</th>\n",
       "      <th>centroid</th>\n",
       "    </tr>\n",
       "  </thead>\n",
       "  <tbody>\n",
       "    <tr>\n",
       "      <th>102</th>\n",
       "      <td>102.0</td>\n",
       "      <td>POLYGON ((9.73827 47.53381, 9.73854 47.53362, ...</td>\n",
       "      <td>Built-up</td>\n",
       "      <td>POINT (9.73851 47.53316)</td>\n",
       "    </tr>\n",
       "    <tr>\n",
       "      <th>398</th>\n",
       "      <td>398.0</td>\n",
       "      <td>POLYGON ((15.76830 46.71420, 15.76807 46.71479...</td>\n",
       "      <td>Built-up</td>\n",
       "      <td>POINT (15.76935 46.71482)</td>\n",
       "    </tr>\n",
       "    <tr>\n",
       "      <th>435</th>\n",
       "      <td>435.0</td>\n",
       "      <td>POLYGON ((16.73130 48.02250, 16.73434 48.02241...</td>\n",
       "      <td>Built-up</td>\n",
       "      <td>POINT (16.73416 48.02227)</td>\n",
       "    </tr>\n",
       "    <tr>\n",
       "      <th>454</th>\n",
       "      <td>454.0</td>\n",
       "      <td>POLYGON ((16.59158 47.81134, 16.59253 47.81133...</td>\n",
       "      <td>Built-up</td>\n",
       "      <td>POINT (16.59205 47.81096)</td>\n",
       "    </tr>\n",
       "    <tr>\n",
       "      <th>684</th>\n",
       "      <td>684.0</td>\n",
       "      <td>POLYGON ((13.50710 46.73196, 13.50732 46.73080...</td>\n",
       "      <td>Built-up</td>\n",
       "      <td>POINT (13.50669 46.73128)</td>\n",
       "    </tr>\n",
       "    <tr>\n",
       "      <th>819</th>\n",
       "      <td>819.0</td>\n",
       "      <td>POLYGON ((14.99618 47.07197, 14.99682 47.07200...</td>\n",
       "      <td>Built-up</td>\n",
       "      <td>POINT (14.99566 47.07132)</td>\n",
       "    </tr>\n",
       "    <tr>\n",
       "      <th>915</th>\n",
       "      <td>915.0</td>\n",
       "      <td>POLYGON ((16.40882 48.13156, 16.41218 48.13103...</td>\n",
       "      <td>Built-up</td>\n",
       "      <td>POINT (16.41034 48.13084)</td>\n",
       "    </tr>\n",
       "    <tr>\n",
       "      <th>1285</th>\n",
       "      <td>1285.0</td>\n",
       "      <td>POLYGON ((15.07408 48.52706, 15.07410 48.52669...</td>\n",
       "      <td>Built-up</td>\n",
       "      <td>POINT (15.07371 48.52663)</td>\n",
       "    </tr>\n",
       "    <tr>\n",
       "      <th>2008</th>\n",
       "      <td>2014.0</td>\n",
       "      <td>POLYGON ((15.90196 46.76300, 15.90163 46.76372...</td>\n",
       "      <td>Built-up</td>\n",
       "      <td>POINT (15.90440 46.76317)</td>\n",
       "    </tr>\n",
       "  </tbody>\n",
       "</table>\n",
       "</div>"
      ],
      "text/plain": [
       "          id                                           geometry land_cover  \\\n",
       "102    102.0  POLYGON ((9.73827 47.53381, 9.73854 47.53362, ...   Built-up   \n",
       "398    398.0  POLYGON ((15.76830 46.71420, 15.76807 46.71479...   Built-up   \n",
       "435    435.0  POLYGON ((16.73130 48.02250, 16.73434 48.02241...   Built-up   \n",
       "454    454.0  POLYGON ((16.59158 47.81134, 16.59253 47.81133...   Built-up   \n",
       "684    684.0  POLYGON ((13.50710 46.73196, 13.50732 46.73080...   Built-up   \n",
       "819    819.0  POLYGON ((14.99618 47.07197, 14.99682 47.07200...   Built-up   \n",
       "915    915.0  POLYGON ((16.40882 48.13156, 16.41218 48.13103...   Built-up   \n",
       "1285  1285.0  POLYGON ((15.07408 48.52706, 15.07410 48.52669...   Built-up   \n",
       "2008  2014.0  POLYGON ((15.90196 46.76300, 15.90163 46.76372...   Built-up   \n",
       "\n",
       "                       centroid  \n",
       "102    POINT (9.73851 47.53316)  \n",
       "398   POINT (15.76935 46.71482)  \n",
       "435   POINT (16.73416 48.02227)  \n",
       "454   POINT (16.59205 47.81096)  \n",
       "684   POINT (13.50669 46.73128)  \n",
       "819   POINT (14.99566 47.07132)  \n",
       "915   POINT (16.41034 48.13084)  \n",
       "1285  POINT (15.07371 48.52663)  \n",
       "2008  POINT (15.90440 46.76317)  "
      ]
     },
     "execution_count": 16,
     "metadata": {},
     "output_type": "execute_result"
    }
   ],
   "source": [
    "big_pv_geoms_built = big_pv_geoms_32632[big_pv_geoms_32632['land_cover']=='Built-up']\n",
    "big_pv_geoms_built = big_pv_geoms_built.to_crs(4326)\n",
    "big_pv_geoms_built['centroid'] = big_pv_geoms_built['geometry'].centroid\n",
    "big_pv_geoms_built"
   ]
  },
  {
   "cell_type": "code",
   "execution_count": 17,
   "id": "35b72314-5c03-49f6-9755-22bf42d1a055",
   "metadata": {
    "tags": []
   },
   "outputs": [
    {
     "data": {
      "application/vnd.jupyter.widget-view+json": {
       "model_id": "227a128e6c57428aa15cea60a7a8860d",
       "version_major": 2,
       "version_minor": 0
      },
      "text/plain": [
       "Map(center=[47.53316, 9.73851], controls=(ZoomControl(options=['position', 'zoom_in_text', 'zoom_in_title', 'z…"
      ]
     },
     "execution_count": 17,
     "metadata": {},
     "output_type": "execute_result"
    }
   ],
   "source": [
    "## Plot over built-up area\n",
    "m = leafmap.Map(center=[47.53316, 9.73851], zoom=17,basemap=\"Esri.WorldImagery\")\n",
    "m.add_gdf(big_pv_geoms, layer_name=\"PV\")\n",
    "m"
   ]
  },
  {
   "cell_type": "markdown",
   "id": "55aaa447-b469-478a-8173-77f648535be8",
   "metadata": {},
   "source": [
    "Download the Sentinel-2 data with openEO Platform for each polygon (only for grassland class?):"
   ]
  },
  {
   "cell_type": "code",
   "execution_count": 4,
   "id": "242aa328-e4b7-44a7-bb78-e5d429338819",
   "metadata": {},
   "outputs": [
    {
     "name": "stdout",
     "output_type": "stream",
     "text": [
      "Authenticated using refresh token.\n"
     ]
    }
   ],
   "source": [
    "conn = openeo.connect(\"openeo.cloud\").authenticate_oidc()"
   ]
  },
  {
   "cell_type": "code",
   "execution_count": 5,
   "id": "f2ef60d5-1a4d-4793-ab59-c4edc4cdeef7",
   "metadata": {
    "scrolled": true
   },
   "outputs": [],
   "source": [
    "for i, geom in big_pv_geoms_32632.iterrows():\n",
    "    if os.path.exists(f\"./data/netcdfs/S2_2022_{i}.nc\"):\n",
    "        continue\n",
    "    print(i)\n",
    "    print(geom[\"geometry\"])\n",
    "    aoi = np.round(geom[\"geometry\"].buffer(20).bounds,-1)\n",
    "    collection = \"SENTINEL2_L2A\"\n",
    "    spatial_extent = {\"west\": aoi[0],\n",
    "                      \"east\": aoi[2],\n",
    "                      \"south\": aoi[1],\n",
    "                      \"north\": aoi[3],\n",
    "                     \"crs\":\"EPSG:32632\"}\n",
    "    temporal_extent = [\"2022-01-01\",\"2022-12-31\"]\n",
    "    all_bands = [\"B01\",\"B02\",\"B03\",\"B04\",\"B05\",\"B06\",\"B07\",\"B08\",\"B8A\",\"B11\",\"B12\",\"SCL\"]\n",
    "    properties={\"eo:cloud_cover\": lambda x: lte(x, 50)}\n",
    "    \n",
    "    s2_cube = conn.load_collection(\n",
    "        collection,\n",
    "        temporal_extent = temporal_extent,\n",
    "        spatial_extent = spatial_extent,\n",
    "        bands = all_bands,\n",
    "        properties = properties\n",
    "    )\n",
    "    try:\n",
    "        s2_cube.download(f\"./data/netcdfs/S2_2022_{i}.nc\")\n",
    "    except:\n",
    "        continue"
   ]
  },
  {
   "cell_type": "markdown",
   "id": "3860ad14-9a49-49ba-93c8-2471dc2b65ba",
   "metadata": {},
   "source": [
    "Have a look at the signal from a single PV farm:"
   ]
  },
  {
   "cell_type": "code",
   "execution_count": 23,
   "id": "3928e60d-1682-4178-b5cc-335d0f590e88",
   "metadata": {
    "tags": []
   },
   "outputs": [
    {
     "data": {
      "image/png": "[encoded data removed]",
      "text/plain": [
       "<Figure size 640x480 with 1 Axes>"
      ]
     },
     "metadata": {},
     "output_type": "display_data"
    }
   ],
   "source": [
    "for i, geom in big_pv_geoms_32632.iterrows():\n",
    "    if i==813: # Showing the plot for an area I'm pretty sure it's covered by PV Panels\n",
    "        if not os.path.exists(f\"./data/netcdfs/S2_2022_{i}.nc\"):\n",
    "            continue\n",
    "        data = xr.open_dataset(f\"./data/netcdfs/S2_2022_{i}.nc\",decode_coords=\"all\")\n",
    "        cloud_mask = np.bitwise_or((data.SCL == 8),(data.SCL == 9))\n",
    "        geodf = gpd.GeoDataFrame(geometry=[geom[\"geometry\"]],crs=\"EPSG:32632\")\n",
    "        clipped = data.rio.clip(geodf.geometry.values, geodf.crs, drop=False, invert=False)\n",
    "        clipped = clipped.where(~cloud_mask)\n",
    "        # Computing the mean over the area which should be covered by the panels. Other statistics can be computed\n",
    "        #Resampling to weekly, maybe required to align different time series\n",
    "        aoi_mean = clipped.mean(dim=[\"x\",\"y\"],skipna=True).resample({\"t\": \"M\"}).mean()\n",
    "        aoi_mean.B02.plot()\n",
    "        break"
   ]
  },
  {
   "cell_type": "markdown",
   "id": "4b4cf979-f4d1-4f5d-95f4-95ca32a105d0",
   "metadata": {},
   "source": [
    "Now  we have the time series of Sentinel-2 values for the polygons covering the PV Farms."
   ]
  },
  {
   "cell_type": "markdown",
   "id": "e18f9887-e06a-41d6-ab8b-40aa2361045a",
   "metadata": {
    "tags": []
   },
   "source": [
    "### Cluster"
   ]
  },
  {
   "cell_type": "code",
   "execution_count": 25,
   "id": "3ca96245-9131-4b58-b53c-58817db32851",
   "metadata": {
    "tags": []
   },
   "outputs": [],
   "source": [
    "import pandas as pd\n",
    "from sklearn.cluster import KMeans\n",
    "from sklearn.decomposition import PCA\n",
    "from sklearn.preprocessing import StandardScaler\n",
    "import matplotlib.pyplot as plt\n",
    "from sklearn.metrics import silhouette_score"
   ]
  },
  {
   "cell_type": "code",
   "execution_count": 26,
   "id": "98c80596-82f7-4ab3-a2cf-0191a266d610",
   "metadata": {
    "tags": []
   },
   "outputs": [],
   "source": [
    "big_pv_geoms_32632 = big_pv_geoms_32632[~ big_pv_geoms_32632['land_cover'].isin(['Built-up', 'Permanent water bodies'])]"
   ]
  },
  {
   "cell_type": "markdown",
   "id": "7dfd6ab3-f37b-4e42-b9a8-f293b3666c9a",
   "metadata": {},
   "source": [
    "#### Monthly mean"
   ]
  },
  {
   "cell_type": "code",
   "execution_count": 29,
   "id": "b02817bf-bdb6-4267-bca7-0030d1004c86",
   "metadata": {
    "tags": []
   },
   "outputs": [],
   "source": [
    "band_values = []\n",
    "ids = []\n",
    "for i, geom in big_pv_geoms_32632.iterrows():\n",
    "    if os.path.exists(f\"./data/netcdfs/S2_2022_{i}.nc\"):\n",
    "        data = xr.open_dataset(f\"./data/netcdfs/S2_2022_{i}.nc\",decode_coords=\"all\")\n",
    "        cloud_mask = np.bitwise_or((data.SCL == 8),(data.SCL == 9))\n",
    "        geodf = gpd.GeoDataFrame(geometry=[geom[\"geometry\"]],crs=\"EPSG:32632\")\n",
    "        clipped = data.rio.clip(geodf.geometry.values, geodf.crs, drop=False, invert=False)\n",
    "        clipped = clipped.where(~cloud_mask)\n",
    "        aoi_mean = clipped.mean(dim=[\"x\",\"y\"],skipna=True).resample({\"t\": \"M\"}).mean()\n",
    "        arr = aoi_mean.to_array().values[:11,]\n",
    "        arr = arr.reshape(-1)\n",
    "        band_values.append(arr)\n",
    "        ids.append(i)\n",
    "        #reshaped_arr = arr.reshape(-1)\n"
   ]
  },
  {
   "cell_type": "code",
   "execution_count": 35,
   "id": "369f2732-e126-41f1-87d6-1954750506de",
   "metadata": {
    "tags": []
   },
   "outputs": [],
   "source": [
    "bands = list(aoi_mean.to_array()['variable'].values[:11])\n",
    "\n",
    "columns=[]\n",
    "for b in bands:\n",
    "    for t in range(12):\n",
    "        columns.append(f'{b}_{t+1}')\n",
    "        \n",
    "        \n",
    "data = pd.DataFrame(band_values, columns=columns)\n",
    "data = data.fillna(-9999)"
   ]
  },
  {
   "cell_type": "markdown",
   "id": "736f921e-b19e-4557-8dfa-e7dc9a1af3aa",
   "metadata": {
    "tags": []
   },
   "source": [
    "##### Silhouette Score:\n",
    "\n",
    "1. Silhouette analysis measures how similar an object is to its own cluster (cohesion) compared to other clusters (separation).\n",
    "2. A higher silhouette score indicates better-defined clusters."
   ]
  },
  {
   "cell_type": "code",
   "execution_count": 36,
   "id": "45e5d05c-4c5f-44a3-99a0-de7f34bdae53",
   "metadata": {
    "tags": []
   },
   "outputs": [],
   "source": [
    "scaler = StandardScaler()\n",
    "data_standardized = scaler.fit_transform(data)\n",
    "data_standardized = pd.DataFrame(data_standardized)"
   ]
  },
  {
   "cell_type": "code",
   "execution_count": 37,
   "id": "1fbcee25-be52-497e-9eb7-4f6dc78a2bf9",
   "metadata": {
    "tags": []
   },
   "outputs": [
    {
     "data": {
      "image/png": "[encoded data removed]",
      "text/plain": [
       "<Figure size 640x480 with 1 Axes>"
      ]
     },
     "metadata": {},
     "output_type": "display_data"
    }
   ],
   "source": [
    "silhouette_scores = []\n",
    "for k in range(2, 11):\n",
    "    kmeans = KMeans(n_clusters=k, random_state=42)\n",
    "    labels = kmeans.fit_predict(data_standardized)\n",
    "    silhouette_scores.append(silhouette_score(data_standardized, labels))\n",
    "\n",
    "# Plot silhouette scores\n",
    "plt.plot(range(2, 11), silhouette_scores, marker='o')\n",
    "plt.title('Silhouette Score for Optimal k')\n",
    "plt.xlabel('Number of Clusters (k)')\n",
    "plt.ylabel('Silhouette Score')\n",
    "plt.show()"
   ]
  },
  {
   "cell_type": "code",
   "execution_count": 38,
   "id": "2003ff4d-51cc-44d3-92e8-25232abf03cc",
   "metadata": {
    "tags": []
   },
   "outputs": [
    {
     "data": {
      "image/png": "[encoded data removed]",
      "text/plain": [
       "<Figure size 640x480 with 1 Axes>"
      ]
     },
     "metadata": {},
     "output_type": "display_data"
    }
   ],
   "source": [
    "\n",
    "# Choose the number of components you want to retain\n",
    "n_components = 2 \n",
    "pca = PCA(n_components=n_components)\n",
    "reduced_data = pca.fit_transform(data_standardized)\n",
    "\n",
    "# Cluster\n",
    "k = 3\n",
    "# Apply k-means clustering\n",
    "kmeans = KMeans(n_clusters=k, random_state=1234)\n",
    "data_standardized['Cluster'] = kmeans.fit_predict(data_standardized)\n",
    "\n",
    "\n",
    "plt.scatter(reduced_data[:, 0], reduced_data[:, 1], c=data_standardized['Cluster'], cmap='rainbow')\n",
    "plt.title('Cluster Visualization')\n",
    "plt.xlabel('PC 1')\n",
    "plt.ylabel('PC 2')\n",
    "plt.show()"
   ]
  },
  {
   "cell_type": "markdown",
   "id": "f4d1e410-bc4c-463f-908f-bb80e0329ec1",
   "metadata": {},
   "source": [
    "#### Weekly mean"
   ]
  },
  {
   "cell_type": "code",
   "execution_count": 39,
   "id": "4c57e6ab-574e-40e8-bf5a-3ec75ed066ee",
   "metadata": {
    "tags": []
   },
   "outputs": [
    {
     "name": "stdout",
     "output_type": "stream",
     "text": [
      "800\n"
     ]
    }
   ],
   "source": [
    "band_values = []\n",
    "ids = []\n",
    "for i, geom in big_pv_geoms_32632.iterrows():\n",
    "    try:\n",
    "        data = xr.open_dataset(f\"./data/netcdfs/S2_2022_{i}.nc\",decode_coords=\"all\")\n",
    "        cloud_mask = np.bitwise_or((data.SCL == 8),(data.SCL == 9))\n",
    "        geodf = gpd.GeoDataFrame(geometry=[geom[\"geometry\"]],crs=\"EPSG:32632\")\n",
    "        clipped = data.rio.clip(geodf.geometry.values, geodf.crs, drop=False, invert=False)\n",
    "        clipped = clipped.where(~cloud_mask)\n",
    "        aoi_mean = clipped.mean(dim=[\"x\",\"y\"],skipna=True).resample({\"t\": \"W\"}).mean() #Resampling to weekly, maybe required to align different time series\n",
    "        #aoi_mean = clipped.mean(dim=[\"x\",\"y\"],skipna=True) # Computing the mean over the area which should be covered by the panels. Other statistics can be computed\n",
    "        arr = aoi_mean.to_array().values[:11,]\n",
    "        arr = arr.reshape(-1)\n",
    "        band_values.append(arr)\n",
    "        ids.append(i)\n",
    "        #reshaped_arr = arr.reshape(-1)\n",
    "\n",
    "    except:\n",
    "        print(i)\n"
   ]
  },
  {
   "cell_type": "code",
   "execution_count": 40,
   "id": "f44b92fa-8513-43ab-b613-b65db90dc40a",
   "metadata": {
    "tags": []
   },
   "outputs": [],
   "source": [
    "bands = list(aoi_mean.to_array()['variable'].values[:11])\n",
    "\n",
    "columns=[]\n",
    "for b in bands:\n",
    "    for t in range(53):\n",
    "        columns.append(f'{b}_{t+1}')\n",
    "        \n",
    "        \n",
    "data = pd.DataFrame(band_values, columns=columns)\n",
    "data = data.fillna(-9999)"
   ]
  },
  {
   "cell_type": "code",
   "execution_count": 41,
   "id": "e4a73b81-b648-4e2a-aebf-343171b11096",
   "metadata": {
    "tags": []
   },
   "outputs": [],
   "source": [
    "scaler = StandardScaler()\n",
    "data_standardized = scaler.fit_transform(data)\n",
    "data_standardized = pd.DataFrame(data_standardized)"
   ]
  },
  {
   "cell_type": "code",
   "execution_count": 42,
   "id": "8228f512-5360-4db9-b68b-1570fb9b1409",
   "metadata": {
    "tags": []
   },
   "outputs": [
    {
     "data": {
      "image/png": "[encoded data removed]",
      "text/plain": [
       "<Figure size 640x480 with 1 Axes>"
      ]
     },
     "metadata": {},
     "output_type": "display_data"
    }
   ],
   "source": [
    "silhouette_scores = []\n",
    "for k in range(2, 11):\n",
    "    kmeans = KMeans(n_clusters=k, random_state=42)\n",
    "    labels = kmeans.fit_predict(data_standardized)\n",
    "    silhouette_scores.append(silhouette_score(data_standardized, labels))\n",
    "\n",
    "# Plot silhouette scores\n",
    "plt.plot(range(2, 11), silhouette_scores, marker='o')\n",
    "plt.title('Silhouette Score for Optimal k')\n",
    "plt.xlabel('Number of Clusters (k)')\n",
    "plt.ylabel('Silhouette Score')\n",
    "plt.show()"
   ]
  },
  {
   "cell_type": "code",
   "execution_count": 43,
   "id": "8a80515a-441b-4ab1-8483-1f14022603c1",
   "metadata": {
    "tags": []
   },
   "outputs": [
    {
     "data": {
      "image/png": "[encoded data removed]",
      "text/plain": [
       "<Figure size 640x480 with 1 Axes>"
      ]
     },
     "metadata": {},
     "output_type": "display_data"
    }
   ],
   "source": [
    "# Choose the number of components you want to retain\n",
    "n_components = 2 \n",
    "pca = PCA(n_components=n_components)\n",
    "reduced_data = pca.fit_transform(data_standardized)\n",
    "\n",
    "# Cluster\n",
    "k = 6\n",
    "# Apply k-means clustering\n",
    "kmeans = KMeans(n_clusters=k, random_state=1234)\n",
    "data_standardized['Cluster'] = kmeans.fit_predict(data_standardized)\n",
    "\n",
    "\n",
    "plt.scatter(reduced_data[:, 0], reduced_data[:, 1], c=data_standardized['Cluster'], cmap='rainbow')\n",
    "plt.title('Cluster Visualization')\n",
    "plt.xlabel('PC 1')\n",
    "plt.ylabel('PC 2')\n",
    "plt.show()"
   ]
  },
  {
   "cell_type": "markdown",
   "id": "5e1c8da2-420e-4819-ab8b-7030ee7d0c31",
   "metadata": {},
   "source": [
    "### Validation of OSM polygons based on DescartesLab result"
   ]
  },
  {
   "cell_type": "code",
   "execution_count": 44,
   "id": "b23e4be3-4a9e-495c-8409-0eef466358bc",
   "metadata": {
    "tags": []
   },
   "outputs": [
    {
     "name": "stdout",
     "output_type": "stream",
     "text": [
      "Found 0 in trn DescartesLab dataset\n",
      "Found 0 in cv DescartesLab dataset\n",
      "Found 3 in test DescartesLab dataset\n"
     ]
    }
   ],
   "source": [
    "for d in ['trn', 'cv', 'test']:\n",
    "    gdf1 = gpd.read_file(f'data/descarteslab/{d}_polygons.json')\n",
    "    big_pv_geoms_4326 = big_pv_geoms_32632.to_crs(4326)\n",
    "    filtered_gdf = gpd.overlay(big_pv_geoms_4326, gdf1, how='intersection')\n",
    "    print(f'Found {filtered_gdf.shape[0]} in {d} DescartesLab dataset')"
   ]
  },
  {
   "cell_type": "code",
   "execution_count": 45,
   "id": "49f88c8d-2842-4fe0-a9a5-ff8fa2d578d9",
   "metadata": {
    "tags": []
   },
   "outputs": [
    {
     "data": {
      "text/html": [
       "<div>\n",
       "<style scoped>\n",
       "    .dataframe tbody tr th:only-of-type {\n",
       "        vertical-align: middle;\n",
       "    }\n",
       "\n",
       "    .dataframe tbody tr th {\n",
       "        vertical-align: top;\n",
       "    }\n",
       "\n",
       "    .dataframe thead th {\n",
       "        text-align: right;\n",
       "    }\n",
       "</style>\n",
       "<table border=\"1\" class=\"dataframe\">\n",
       "  <thead>\n",
       "    <tr style=\"text-align: right;\">\n",
       "      <th></th>\n",
       "      <th>id_1</th>\n",
       "      <th>land_cover</th>\n",
       "      <th>aoi_idx</th>\n",
       "      <th>aoi</th>\n",
       "      <th>id_2</th>\n",
       "      <th>NAME</th>\n",
       "      <th>ORGN_NAME</th>\n",
       "      <th>geometry</th>\n",
       "    </tr>\n",
       "  </thead>\n",
       "  <tbody>\n",
       "    <tr>\n",
       "      <th>0</th>\n",
       "      <td>101.0</td>\n",
       "      <td>Grassland</td>\n",
       "      <td>106_14.304507694293548_47.004040661000914</td>\n",
       "      <td>106</td>\n",
       "      <td>NaN</td>\n",
       "      <td>Austria</td>\n",
       "      <td>Österreich</td>\n",
       "      <td>POLYGON ((14.63158 47.18080, 14.63160 47.18086...</td>\n",
       "    </tr>\n",
       "    <tr>\n",
       "      <th>1</th>\n",
       "      <td>159.0</td>\n",
       "      <td>Grassland</td>\n",
       "      <td>106_14.304507694293548_47.004040661000914</td>\n",
       "      <td>106</td>\n",
       "      <td>NaN</td>\n",
       "      <td>Austria</td>\n",
       "      <td>Österreich</td>\n",
       "      <td>POLYGON ((14.39481 47.27290, 14.39481 47.27278...</td>\n",
       "    </tr>\n",
       "    <tr>\n",
       "      <th>2</th>\n",
       "      <td>159.0</td>\n",
       "      <td>Grassland</td>\n",
       "      <td>106_14.304507694293548_47.004040661000914</td>\n",
       "      <td>106</td>\n",
       "      <td>NaN</td>\n",
       "      <td>Austria</td>\n",
       "      <td>Österreich</td>\n",
       "      <td>POLYGON ((14.38957 47.27131, 14.38961 47.27176...</td>\n",
       "    </tr>\n",
       "  </tbody>\n",
       "</table>\n",
       "</div>"
      ],
      "text/plain": [
       "    id_1 land_cover                                    aoi_idx  aoi id_2  \\\n",
       "0  101.0  Grassland  106_14.304507694293548_47.004040661000914  106  NaN   \n",
       "1  159.0  Grassland  106_14.304507694293548_47.004040661000914  106  NaN   \n",
       "2  159.0  Grassland  106_14.304507694293548_47.004040661000914  106  NaN   \n",
       "\n",
       "      NAME   ORGN_NAME                                           geometry  \n",
       "0  Austria  Österreich  POLYGON ((14.63158 47.18080, 14.63160 47.18086...  \n",
       "1  Austria  Österreich  POLYGON ((14.39481 47.27290, 14.39481 47.27278...  \n",
       "2  Austria  Österreich  POLYGON ((14.38957 47.27131, 14.38961 47.27176...  "
      ]
     },
     "execution_count": 45,
     "metadata": {},
     "output_type": "execute_result"
    }
   ],
   "source": [
    "filtered_gdf"
   ]
  },
  {
   "cell_type": "code",
   "execution_count": 46,
   "id": "617b7fa0-a33a-4f02-b049-51868bb97cdc",
   "metadata": {
    "tags": []
   },
   "outputs": [
    {
     "data": {
      "text/html": [
       "<div>\n",
       "<style scoped>\n",
       "    .dataframe tbody tr th:only-of-type {\n",
       "        vertical-align: middle;\n",
       "    }\n",
       "\n",
       "    .dataframe tbody tr th {\n",
       "        vertical-align: top;\n",
       "    }\n",
       "\n",
       "    .dataframe thead th {\n",
       "        text-align: right;\n",
       "    }\n",
       "</style>\n",
       "<table border=\"1\" class=\"dataframe\">\n",
       "  <thead>\n",
       "    <tr style=\"text-align: right;\">\n",
       "      <th></th>\n",
       "      <th>id_1</th>\n",
       "      <th>land_cover</th>\n",
       "      <th>aoi_idx</th>\n",
       "      <th>aoi</th>\n",
       "      <th>id_2</th>\n",
       "      <th>NAME</th>\n",
       "      <th>ORGN_NAME</th>\n",
       "      <th>geometry</th>\n",
       "      <th>centroid</th>\n",
       "    </tr>\n",
       "  </thead>\n",
       "  <tbody>\n",
       "    <tr>\n",
       "      <th>0</th>\n",
       "      <td>101.0</td>\n",
       "      <td>Grassland</td>\n",
       "      <td>106_14.304507694293548_47.004040661000914</td>\n",
       "      <td>106</td>\n",
       "      <td>NaN</td>\n",
       "      <td>Austria</td>\n",
       "      <td>Österreich</td>\n",
       "      <td>POLYGON ((14.63158 47.18080, 14.63160 47.18086...</td>\n",
       "      <td>POINT (14.63195 47.18125)</td>\n",
       "    </tr>\n",
       "    <tr>\n",
       "      <th>1</th>\n",
       "      <td>159.0</td>\n",
       "      <td>Grassland</td>\n",
       "      <td>106_14.304507694293548_47.004040661000914</td>\n",
       "      <td>106</td>\n",
       "      <td>NaN</td>\n",
       "      <td>Austria</td>\n",
       "      <td>Österreich</td>\n",
       "      <td>POLYGON ((14.39481 47.27290, 14.39481 47.27278...</td>\n",
       "      <td>POINT (14.39247 47.27229)</td>\n",
       "    </tr>\n",
       "    <tr>\n",
       "      <th>2</th>\n",
       "      <td>159.0</td>\n",
       "      <td>Grassland</td>\n",
       "      <td>106_14.304507694293548_47.004040661000914</td>\n",
       "      <td>106</td>\n",
       "      <td>NaN</td>\n",
       "      <td>Austria</td>\n",
       "      <td>Österreich</td>\n",
       "      <td>POLYGON ((14.38957 47.27131, 14.38961 47.27176...</td>\n",
       "      <td>POINT (14.39003 47.27152)</td>\n",
       "    </tr>\n",
       "  </tbody>\n",
       "</table>\n",
       "</div>"
      ],
      "text/plain": [
       "    id_1 land_cover                                    aoi_idx  aoi id_2  \\\n",
       "0  101.0  Grassland  106_14.304507694293548_47.004040661000914  106  NaN   \n",
       "1  159.0  Grassland  106_14.304507694293548_47.004040661000914  106  NaN   \n",
       "2  159.0  Grassland  106_14.304507694293548_47.004040661000914  106  NaN   \n",
       "\n",
       "      NAME   ORGN_NAME                                           geometry  \\\n",
       "0  Austria  Österreich  POLYGON ((14.63158 47.18080, 14.63160 47.18086...   \n",
       "1  Austria  Österreich  POLYGON ((14.39481 47.27290, 14.39481 47.27278...   \n",
       "2  Austria  Österreich  POLYGON ((14.38957 47.27131, 14.38961 47.27176...   \n",
       "\n",
       "                    centroid  \n",
       "0  POINT (14.63195 47.18125)  \n",
       "1  POINT (14.39247 47.27229)  \n",
       "2  POINT (14.39003 47.27152)  "
      ]
     },
     "execution_count": 46,
     "metadata": {},
     "output_type": "execute_result"
    }
   ],
   "source": [
    "filtered_gdf['centroid'] = filtered_gdf['geometry'].centroid\n",
    "filtered_gdf"
   ]
  },
  {
   "cell_type": "code",
   "execution_count": 47,
   "id": "53f36f9b-46bc-4ece-8070-02e9a41b96a9",
   "metadata": {},
   "outputs": [
    {
     "data": {
      "application/vnd.jupyter.widget-view+json": {
       "model_id": "e9f03d8571ec4d2d83b036ad6044f0c5",
       "version_major": 2,
       "version_minor": 0
      },
      "text/plain": [
       "Map(center=[48.4239, 15.76969], controls=(ZoomControl(options=['position', 'zoom_in_text', 'zoom_in_title', 'z…"
      ]
     },
     "execution_count": 47,
     "metadata": {},
     "output_type": "execute_result"
    }
   ],
   "source": [
    "## Plot over water\n",
    "m = leafmap.Map(center=[48.42390, 15.76969], zoom=17,basemap=\"Esri.WorldImagery\")\n",
    "m.add_gdf(big_pv_geoms, layer_name=\"PV\")\n",
    "m"
   ]
  },
  {
   "cell_type": "code",
   "execution_count": null,
   "id": "938807ca-3a7c-4274-8f76-efab296314d7",
   "metadata": {},
   "outputs": [],
   "source": []
  }
 ],
 "metadata": {
  "kernelspec": {
   "display_name": "Python 3 (ipykernel)",
   "language": "python",
   "name": "python3"
  },
  "language_info": {
   "codemirror_mode": {
    "name": "ipython",
    "version": 3
   },
   "file_extension": ".py",
   "mimetype": "text/x-python",
   "name": "python",
   "nbconvert_exporter": "python",
   "pygments_lexer": "ipython3",
   "version": "3.10.12"
  }
 },
 "nbformat": 4,
 "nbformat_minor": 5
}
