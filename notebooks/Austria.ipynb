{
 "cells": [
  {
   "cell_type": "code",
   "execution_count": 21,
   "id": "6abd5fe4-1bad-41e4-8d06-a7a21ad9ae60",
   "metadata": {
    "tags": []
   },
   "outputs": [],
   "source": [
    "import geopandas as gpd\n",
    "import os\n",
    "import xarray as xr\n",
    "import numpy as np\n",
    "import pandas as pd\n",
    "import copy\n",
    "import pickle\n",
    "import gc\n",
    "from matplotlib.colors import ListedColormap\n",
    "import matplotlib.pyplot as plt\n",
    "#import leafmap\n",
    "import leafmap.foliumap as leafmap\n",
    "from shapely.geometry import mapping\n",
    "import pyproj\n",
    "import folium\n",
    "from glob import glob\n",
    "# sklearn\n",
    "from sklearn.model_selection import StratifiedKFold\n",
    "from sklearn.metrics import accuracy_score\n",
    "from sklearn.ensemble import RandomForestClassifier"
   ]
  },
  {
   "cell_type": "code",
   "execution_count": 3,
   "id": "b546a0f5-9f83-4ec4-9673-1f308fe0d1bc",
   "metadata": {
    "tags": []
   },
   "outputs": [],
   "source": [
    "from tsai.all import *"
   ]
  },
  {
   "cell_type": "code",
   "execution_count": 4,
   "id": "85a0be5b-a2fc-4532-b5c5-e6cdfbce238e",
   "metadata": {
    "tags": []
   },
   "outputs": [],
   "source": [
    "data_dir = '/mnt/CEPH_PROJECTS/sao/openEO_Platform'"
   ]
  },
  {
   "cell_type": "code",
   "execution_count": 5,
   "id": "101773eb-5af2-4c50-ab8b-202f11b01987",
   "metadata": {
    "tags": []
   },
   "outputs": [],
   "source": [
    "pv_geoms = gpd.read_file(f\"{data_dir}/old_data/data/shapefiles/photovoltaic.shp\")"
   ]
  },
  {
   "cell_type": "code",
   "execution_count": 6,
   "id": "adb44822-500c-4838-8a3a-0ef92d3d02d8",
   "metadata": {
    "tags": []
   },
   "outputs": [
    {
     "name": "stdout",
     "output_type": "stream",
     "text": [
      "Number of selected PV Farms: 43\n"
     ]
    }
   ],
   "source": [
    "threshold_area = 5000 #m^2 ~50mx100m\n",
    "pv_geoms_32632 = pv_geoms.to_crs(32632)\n",
    "big_pv_geoms_32632 = pv_geoms_32632.where(pv_geoms_32632[\"geometry\"].area > threshold_area).dropna()\n",
    "big_pv_geoms = big_pv_geoms_32632.to_crs(4326)\n",
    "print(f\"Number of selected PV Farms: {len(big_pv_geoms)}\")"
   ]
  },
  {
   "cell_type": "code",
   "execution_count": 12,
   "id": "d9d701ef-6725-4dc1-8612-d50064901c29",
   "metadata": {
    "scrolled": true,
    "tags": []
   },
   "outputs": [],
   "source": [
    "pv_index = big_pv_geoms.index"
   ]
  },
  {
   "cell_type": "code",
   "execution_count": 13,
   "id": "67b07ae0-2059-4d42-8d31-d1e9e32f11cb",
   "metadata": {
    "tags": []
   },
   "outputs": [],
   "source": [
    "bands = ['B01','B02','B03','B04',\n",
    "         'B05','B06','B07','B08',\n",
    "         'B8A', 'B11', 'B12']"
   ]
  },
  {
   "cell_type": "code",
   "execution_count": 22,
   "id": "2c5ebd2d-8309-40cb-b36c-b9e1c72bd87a",
   "metadata": {
    "tags": []
   },
   "outputs": [],
   "source": [
    "pv_farms = glob(f\"{data_dir}/old_data/data/netcdfs/*.nc\")\n",
    "#f\"{data_dir}/old_data/data/netcdfs/S2_2022_{farm_id}.nc\""
   ]
  },
  {
   "cell_type": "markdown",
   "id": "4deed8d6-6f06-4b8f-a31d-38447e15b082",
   "metadata": {
    "tags": []
   },
   "source": [
    "### Monthly aggregation"
   ]
  },
  {
   "cell_type": "code",
   "execution_count": 66,
   "id": "b27598bb-1a31-4573-b460-3fe60efa9e7c",
   "metadata": {},
   "outputs": [],
   "source": [
    "def temp_s2_data(stat_name, pv_farms, start_date='2022-01-01', end_date='2022-12-31', train=True, invert=False):\n",
    "    \n",
    "    all_pixels_ts = []\n",
    "    for pv_farm in tqdm(pv_farms):\n",
    "        farm_id = int(pv_farm.split('/')[-1].split('_')[-1].split('.')[0])\n",
    "        #data = xr.open_dataset(f\"{data_dir}/s2/germany/s2_2022_{farm_id}.nc\",decode_coords=\"all\")\n",
    "        data = xr.open_dataset(f\"{data_dir}/old_data/data/netcdfs/S2_2022_{farm_id}.nc\",decode_coords=\"all\")\n",
    "        geom = big_pv_geoms_32632.loc[farm_id]\n",
    "\n",
    "\n",
    "         # Filter clouds pixels\n",
    "        cloud_mask = np.bitwise_or((data.SCL == 8),(data.SCL == 9))\n",
    "        geodf = gpd.GeoDataFrame(geometry=[geom[\"geometry\"]],crs=\"EPSG:32632\")\n",
    "        data = data.where(~cloud_mask)  \n",
    "\n",
    "        # This step to fill the gaps (nan values) spatially\n",
    "        data = data.groupby('t').apply(lambda x: x.fillna(x.mean(dim=('x','y'))))\n",
    "        data.rio.write_crs(\"epsg:32633\", inplace=True) #32633   \n",
    "\n",
    "        # Filter the dataset based on time [Feb, Nov]\n",
    "        filtered_ds = data.sel(t=slice(start_date, end_date))\n",
    "            \n",
    "        # Monthly stats \n",
    "        ds_monthly = filtered_ds.resample({\"t\": \"M\"}).apply(statistics_functions[stat_name])      \n",
    "        \n",
    "            \n",
    "        # Linear interpolate for missing values \n",
    "        ds_monthly_interp = ds_monthly.interpolate_na(dim='t', method='linear')           \n",
    "            \n",
    "        # Crop the farm \n",
    "        clipped = ds_monthly_interp.rio.clip(geodf.geometry.values, geodf.crs, drop=False, invert=invert)    \n",
    "        \n",
    "        if train:\n",
    "            df = clipped.to_dataframe().unstack(level='t')\n",
    "        else:\n",
    "            df = ds_monthly_interp.to_dataframe().unstack(level='t')\n",
    "            \n",
    "            \n",
    "        arr_ts= []\n",
    "        for b in bands:\n",
    "            df_b = df[b]\n",
    "            if train:\n",
    "                df_b = df_b.dropna(how = 'all')\n",
    "            if invert:\n",
    "                # Randomly select 25% of the pixels \n",
    "                rows_to_filter = int(0.25 * len(df_b))\n",
    "                df_b = df_b.sample(n=rows_to_filter, random_state=42)\n",
    "            if df_b.shape[0] > 0 and df_b.shape[1] == 12:\n",
    "                arr_ts.append(np.array(df_b))\n",
    "        if len(arr_ts) > 0:\n",
    "            all_pixels_ts.append(np.stack(arr_ts, axis=1))\n",
    "        \n",
    "    \n",
    "    samples = np.vstack(all_pixels_ts)\n",
    "    \n",
    "    return samples"
   ]
  },
  {
   "cell_type": "code",
   "execution_count": 67,
   "id": "295a2f11-1cd3-4d07-8942-bc60ffe64704",
   "metadata": {
    "tags": []
   },
   "outputs": [],
   "source": [
    "# Define a list of statistics functions\n",
    "statistics_functions = {\n",
    "    \"mean\": lambda x: x.mean(dim=\"t\",skipna=True),\n",
    "    \"median\": lambda x: x.median(dim=\"t\",skipna=True),\n",
    "    \"std\": lambda x: x.std(dim=\"t\",skipna=True),\n",
    "}\n",
    "\n",
    "\n",
    "# Define the list of statistics names\n",
    "statistics_names = list(statistics_functions.keys())"
   ]
  },
  {
   "cell_type": "code",
   "execution_count": 68,
   "id": "a05495d1-f7b3-4dfb-9668-dc3274e5a712",
   "metadata": {
    "scrolled": true,
    "tags": []
   },
   "outputs": [
    {
     "name": "stderr",
     "output_type": "stream",
     "text": [
      "100%|███████████████████████████████████████████| 42/42 [00:30<00:00,  1.38it/s]\n",
      "100%|███████████████████████████████████████████| 42/42 [00:32<00:00,  1.28it/s]\n",
      "100%|███████████████████████████████████████████| 42/42 [00:30<00:00,  1.36it/s]\n"
     ]
    }
   ],
   "source": [
    "# Initialize a dictionary to store the results\n",
    "results = {}\n",
    "\n",
    "# Loop through each statistic\n",
    "for stat_name in statistics_names:\n",
    "    ds_monthly = temp_s2_data(stat_name, pv_farms) \n",
    "    # Store the result in the dictionary\n",
    "    results[stat_name] = ds_monthly \n",
    "    \n",
    "pv_samples= np.concatenate(list(results.values()), axis=-1)\n",
    "np.save(f'{data_dir}/s2/germany/extracted_temporal_data/Austria_pv_samples_monthly.npy', pv_samples)"
   ]
  },
  {
   "cell_type": "code",
   "execution_count": 69,
   "id": "4fd59cd4-13ac-44fe-84b1-5e35668b92dc",
   "metadata": {
    "tags": []
   },
   "outputs": [
    {
     "name": "stderr",
     "output_type": "stream",
     "text": [
      "100%|███████████████████████████████████████████| 42/42 [00:30<00:00,  1.36it/s]\n",
      "100%|███████████████████████████████████████████| 42/42 [00:32<00:00,  1.28it/s]\n",
      "100%|███████████████████████████████████████████| 42/42 [00:31<00:00,  1.34it/s]\n"
     ]
    }
   ],
   "source": [
    "# Initialize a dictionary to store the results\n",
    "results = {}\n",
    "\n",
    "# Loop through each statistic\n",
    "for stat_name in statistics_names:\n",
    "    # Resample the dataset to monthly means using the current statistic function\n",
    "    ds_monthly = temp_s2_data(stat_name, pv_farms, invert=True) \n",
    "    # Store the result in the dictionary\n",
    "    results[stat_name] = ds_monthly \n",
    "    \n",
    "te_samples= np.concatenate(list(results.values()), axis=-1)\n",
    "np.save(f'{data_dir}/s2/germany/extracted_temporal_data/Austria_non_pv_samples_monthly.npy', te_samples)"
   ]
  },
  {
   "cell_type": "code",
   "execution_count": 70,
   "id": "594b8285-4828-43c5-abe4-a2fb1dcba06e",
   "metadata": {
    "tags": []
   },
   "outputs": [],
   "source": [
    "# load the model\n",
    "clf = pickle.load(open(f'../models/temporal_models/rf_monthly_temporal_1.sav', 'rb'))"
   ]
  },
  {
   "cell_type": "code",
   "execution_count": 71,
   "id": "2fdefd16-632e-4053-bc13-78f200b48aaa",
   "metadata": {
    "tags": []
   },
   "outputs": [],
   "source": [
    "te_pv_samples = np.load(f'{data_dir}/s2/germany/extracted_temporal_data/Austria_pv_samples_monthly.npy')\n",
    "te_non_pv_samples = np.load(f'{data_dir}/s2/germany/extracted_temporal_data/Austria_non_pv_samples_monthly.npy')\n",
    "\n",
    "y1 = np.ones(te_pv_samples.shape[0])\n",
    "y0 = np.zeros(te_non_pv_samples.shape[0])\n",
    "\n",
    "te_samples = np.vstack([te_pv_samples, te_non_pv_samples])\n",
    "te_samples = te_samples.reshape(te_samples.shape[0], te_samples.shape[1]*te_samples.shape[2])\n",
    "te_samples = np.nan_to_num(te_samples, nan=-999999)\n",
    "\n",
    "y_test = np.hstack([y1, y0])"
   ]
  },
  {
   "cell_type": "code",
   "execution_count": 72,
   "id": "4e72b91d-7f0a-455f-a48c-a79dc5d37983",
   "metadata": {
    "tags": []
   },
   "outputs": [
    {
     "name": "stdout",
     "output_type": "stream",
     "text": [
      "Test Accuracy Score: 0.6292644135188867\n"
     ]
    }
   ],
   "source": [
    "te_pred = clf.predict(te_samples)\n",
    "test_score = accuracy_score(te_pred, y_test)\n",
    "print(f'Test Accuracy Score: {test_score}')"
   ]
  },
  {
   "cell_type": "code",
   "execution_count": 73,
   "id": "9ccb33d5-ab64-4e96-9948-669ea17c0e00",
   "metadata": {
    "tags": []
   },
   "outputs": [
    {
     "name": "stdout",
     "output_type": "stream",
     "text": [
      "Test Accuracy Score for PV pixels: 0.44471673634135794\n"
     ]
    }
   ],
   "source": [
    "te_pv_samples = np.load(f'{data_dir}/s2/germany/extracted_temporal_data/Austria_pv_samples_monthly.npy')\n",
    "te_pv_samples = te_pv_samples.reshape(te_pv_samples.shape[0], te_pv_samples.shape[1]*te_pv_samples.shape[2])\n",
    "te_pv_samples = np.nan_to_num(te_pv_samples, nan=-999999)\n",
    "\n",
    "te_pred = clf.predict(te_pv_samples)\n",
    "\n",
    "test_score = accuracy_score(te_pred, y1)\n",
    "print(f'Test Accuracy Score for PV pixels: {test_score}')"
   ]
  },
  {
   "cell_type": "markdown",
   "id": "88c71e99-caa1-40a0-aa0b-67d09fb6ec08",
   "metadata": {
    "tags": []
   },
   "source": [
    "### Weekly aggregation"
   ]
  },
  {
   "cell_type": "code",
   "execution_count": 83,
   "id": "eb6d1ef9-a4e2-4140-8fb7-09d494a873e5",
   "metadata": {
    "tags": []
   },
   "outputs": [],
   "source": [
    "def temp_s2_data(stat_name, pv_farms, start_date='2022-01-01', end_date='2022-12-31', train=True, invert=False):\n",
    "    \n",
    "    all_pixels_ts = []\n",
    "    for pv_farm in tqdm(pv_farms):\n",
    "        farm_id = int(pv_farm.split('/')[-1].split('_')[-1].split('.')[0])\n",
    "        data = xr.open_dataset(f\"{data_dir}/old_data/data/netcdfs/S2_2022_{farm_id}.nc\",decode_coords=\"all\")\n",
    "        geom = big_pv_geoms_32632.loc[farm_id]\n",
    "\n",
    "\n",
    "         # Filter clouds pixels\n",
    "        cloud_mask = np.bitwise_or((data.SCL == 8),(data.SCL == 9))\n",
    "        geodf = gpd.GeoDataFrame(geometry=[geom[\"geometry\"]],crs=\"EPSG:32632\")\n",
    "        data = data.where(~cloud_mask)  \n",
    "\n",
    "        # This step to fill the gaps (nan values) spatially\n",
    "        data = data.groupby('t').apply(lambda x: x.fillna(x.mean(dim=('x','y'))))\n",
    "        data.rio.write_crs(\"epsg:32633\", inplace=True) #32633   \n",
    "\n",
    "        # Filter the dataset based on time [Feb, Nov]\n",
    "        filtered_ds = data.sel(t=slice(start_date, end_date))\n",
    "            \n",
    "        # Weekly stats \n",
    "        ds_weekly = filtered_ds.resample({\"t\": \"W\"}).apply(statistics_functions[stat_name])      \n",
    "        ds_weekly.rio.write_crs(\"epsg:32633\", inplace=True)\n",
    "            \n",
    "        # Linear interpolate for missing values \n",
    "        ds_weekly_interp = ds_weekly.interpolate_na(dim='t', method='linear')           \n",
    "            \n",
    "        # Crop the farm \n",
    "        clipped = ds_weekly_interp.rio.clip(geodf.geometry.values, geodf.crs, drop=False, invert=invert)    \n",
    "        \n",
    "        if train:\n",
    "            df = clipped.to_dataframe().unstack(level='t')\n",
    "        else:\n",
    "            df = ds_weekly_interp.to_dataframe().unstack(level='t')\n",
    "            \n",
    "            \n",
    "        arr_ts= []\n",
    "        for b in bands:\n",
    "            df_b = df[b]\n",
    "            if train:\n",
    "                df_b = df_b.dropna(how = 'all')\n",
    "            if invert:\n",
    "                # Randomly select 25% of the pixels \n",
    "                rows_to_filter = int(0.25 * len(df_b))\n",
    "                df_b = df_b.sample(n=rows_to_filter, random_state=42)\n",
    "                \n",
    "            # Filter the dataset based on time [Feb, Nov]\n",
    "            if df_b.shape[1] >= 50:\n",
    "                arr_ts.append(np.array(df_b)[:, 4:50])\n",
    "        if len(arr_ts) > 0:\n",
    "            all_pixels_ts.append(np.stack(arr_ts, axis=1))\n",
    "        \n",
    "    \n",
    "    samples = np.vstack(all_pixels_ts)\n",
    "    \n",
    "    return samples"
   ]
  },
  {
   "cell_type": "code",
   "execution_count": 84,
   "id": "8e7c3997-c4c2-49cc-8eff-8339e0989dd8",
   "metadata": {
    "scrolled": true,
    "tags": []
   },
   "outputs": [
    {
     "name": "stderr",
     "output_type": "stream",
     "text": [
      "100%|███████████████████████████████████████████| 42/42 [00:37<00:00,  1.12it/s]\n",
      "100%|███████████████████████████████████████████| 42/42 [00:43<00:00,  1.04s/it]\n",
      "100%|███████████████████████████████████████████| 42/42 [00:38<00:00,  1.10it/s]\n"
     ]
    }
   ],
   "source": [
    "# Initialize a dictionary to store the results\n",
    "results = {}\n",
    "\n",
    "# Loop through each statistic\n",
    "for stat_name in statistics_names:\n",
    "    # Resample the dataset to monthly means using the current statistic function\n",
    "    ds_weekly = temp_s2_data(stat_name, pv_farms)\n",
    "    \n",
    "    # Store the result in the dictionary\n",
    "    results[stat_name] = ds_weekly \n",
    "    \n",
    "\n",
    "te_samples= np.concatenate(list(results.values()), axis=-1)\n",
    "np.save(f'{data_dir}/s2/germany/extracted_temporal_data/Austria_te_pv_samples_weekly.npy', te_samples)"
   ]
  },
  {
   "cell_type": "code",
   "execution_count": 85,
   "id": "62e74b41-3a6b-4253-aed8-835561d41547",
   "metadata": {
    "scrolled": true,
    "tags": []
   },
   "outputs": [
    {
     "name": "stderr",
     "output_type": "stream",
     "text": [
      "100%|███████████████████████████████████████████| 42/42 [00:37<00:00,  1.12it/s]\n",
      "100%|███████████████████████████████████████████| 42/42 [00:43<00:00,  1.04s/it]\n",
      "100%|███████████████████████████████████████████| 42/42 [00:38<00:00,  1.10it/s]\n"
     ]
    }
   ],
   "source": [
    "# Initialize a dictionary to store the results\n",
    "results = {}\n",
    "\n",
    "# Loop through each statistic\n",
    "for stat_name in statistics_names:\n",
    "    # Resample the dataset to monthly means using the current statistic function\n",
    "    ds_weekly = temp_s2_data(stat_name, pv_farms, invert=True) \n",
    "    # Store the result in the dictionary\n",
    "    results[stat_name] = ds_weekly  \n",
    "    \n",
    "non_pv_samples= np.concatenate(list(results.values()), axis=-1)\n",
    "np.save(f'{data_dir}/s2/germany/extracted_temporal_data/Austria_non_pv_samples_weekly.npy', non_pv_samples)"
   ]
  },
  {
   "cell_type": "code",
   "execution_count": 86,
   "id": "788eea72-95b7-4270-9ca6-0aa92a2511d6",
   "metadata": {
    "tags": []
   },
   "outputs": [],
   "source": [
    "# load the model from disk\n",
    "clf = pickle.load(open(f'../models/temporal_models/rf_weekly_1.sav', 'rb'))\n",
    "\n",
    "te_pv_samples = np.load(f'{data_dir}/s2/germany/extracted_temporal_data/Austria_te_pv_samples_weekly.npy')\n",
    "te_non_pv_samples = np.load(f'{data_dir}/s2/germany/extracted_temporal_data/Austria_non_pv_samples_weekly.npy') \n",
    "\n",
    "\n",
    "y1 = np.ones(te_pv_samples.shape[0])\n",
    "y0 = np.zeros(te_non_pv_samples.shape[0])\n",
    "\n",
    "te_samples = np.vstack([te_pv_samples, te_non_pv_samples])\n",
    "te_samples = te_samples.reshape(te_samples.shape[0], te_samples.shape[1]*te_samples.shape[2])\n",
    "te_samples = np.nan_to_num(te_samples, nan=-999999)\n",
    "\n",
    "y_test = np.hstack([y1, y0])"
   ]
  },
  {
   "cell_type": "code",
   "execution_count": 87,
   "id": "817d4455-d5ec-4997-9ecc-7635a56c7229",
   "metadata": {
    "tags": []
   },
   "outputs": [
    {
     "name": "stdout",
     "output_type": "stream",
     "text": [
      "Test Accuracy Score: 0.6844520940906483\n"
     ]
    }
   ],
   "source": [
    "te_pred = clf.predict(te_samples)\n",
    "test_score = accuracy_score(te_pred, y_test)\n",
    "print(f'Test Accuracy Score: {test_score}')"
   ]
  },
  {
   "cell_type": "code",
   "execution_count": 88,
   "id": "1ca91293-c598-4559-bb73-b3b5e6b5ca9f",
   "metadata": {
    "tags": []
   },
   "outputs": [
    {
     "name": "stdout",
     "output_type": "stream",
     "text": [
      "Test Accuracy Score for PV pixels: 0.64\n"
     ]
    }
   ],
   "source": [
    "te_pv_samples = np.load(f'{data_dir}/s2/germany/extracted_temporal_data/Austria_te_pv_samples_weekly.npy')\n",
    "te_pv_samples = te_pv_samples.reshape(te_pv_samples.shape[0], te_pv_samples.shape[1]*te_pv_samples.shape[2])\n",
    "te_pv_samples = np.nan_to_num(te_pv_samples, nan=-999999)\n",
    "\n",
    "\n",
    "te_pred = clf.predict(te_pv_samples)\n",
    "\n",
    "test_score = accuracy_score(te_pred, y1)\n",
    "print(f'Test Accuracy Score for PV pixels: {test_score}')"
   ]
  },
  {
   "cell_type": "markdown",
   "id": "1e96afe2-c860-43b4-bde5-7fdc056323bd",
   "metadata": {
    "tags": []
   },
   "source": [
    "### Daily "
   ]
  },
  {
   "cell_type": "code",
   "execution_count": 92,
   "id": "7c4049c9-c2be-4e3e-a8fa-ef9e4c34c23e",
   "metadata": {
    "tags": []
   },
   "outputs": [],
   "source": [
    "def s2_data(pv_farms, start_date='2022-01-01', end_date='2022-12-31',train=True, invert=False):\n",
    "    \n",
    "    all_pixels_ts = []\n",
    "    for pv_farm in pv_farms:\n",
    "        farm_id = int(pv_farm.split('/')[-1].split('_')[-1].split('.')[0])\n",
    "        data = xr.open_dataset(f\"{data_dir}/old_data/data/netcdfs/S2_2022_{farm_id}.nc\",decode_coords=\"all\")\n",
    "        geom = big_pv_geoms_32632.loc[farm_id]\n",
    "\n",
    "\n",
    "         ## Filter clouds pixels\n",
    "        cloud_mask = np.bitwise_or((data.SCL == 8),(data.SCL == 9))\n",
    "        geodf = gpd.GeoDataFrame(geometry=[geom[\"geometry\"]],crs=\"EPSG:32632\")\n",
    "        data = data.where(~cloud_mask)  \n",
    "\n",
    "        ## This step to fill the gaps (nan values) spatially\n",
    "        data = data.groupby('t').apply(lambda x: x.fillna(x.mean(dim=('x','y'))))\n",
    "        data.rio.write_crs(\"epsg:32633\", inplace=True) #32633   \n",
    "\n",
    "        ## Linear interpolation to have full time-series\n",
    "        daily_date_range = pd.date_range(start=pd.to_datetime(start_date), \n",
    "                                         end=pd.to_datetime(end_date),\n",
    "                                         freq='D')    \n",
    "\n",
    "        ds_daily = data.reindex(t=daily_date_range)\n",
    "        ds_daily_interp = ds_daily.interpolate_na(dim='t', method='linear')   \n",
    "\n",
    "\n",
    "        ## Clip the farm polygon\n",
    "        clipped = ds_daily_interp.rio.clip(geodf.geometry.values, geodf.crs, drop=False, invert=invert)\n",
    "\n",
    "\n",
    "        if train:\n",
    "            df = clipped.to_dataframe().unstack(level='t')\n",
    "        else:\n",
    "            df = ds_daily_interp.to_dataframe().unstack(level='t')\n",
    "        \n",
    "        arr_ts= []\n",
    "        for b in bands:\n",
    "            df_b = df[b]\n",
    "            if train:\n",
    "                df_b = df_b.dropna(how = 'all')\n",
    "            if invert:\n",
    "                # Randomly select 25% of the pixels \n",
    "                rows_to_filter = int(0.25 * len(df_b))\n",
    "                df_b = df_b.sample(n=rows_to_filter, random_state=42)\n",
    "                \n",
    "            arr_ts.append(np.array(df_b))\n",
    "\n",
    "        all_pixels_ts.append(np.stack(arr_ts, axis=1))\n",
    "        \n",
    "    \n",
    "    samples = np.vstack(all_pixels_ts)\n",
    "\n",
    "    \n",
    "    return samples"
   ]
  },
  {
   "cell_type": "code",
   "execution_count": 93,
   "id": "bd22d49b-93c1-4a77-87d2-03e23ee96f13",
   "metadata": {
    "tags": []
   },
   "outputs": [],
   "source": [
    "te_pv_samples = s2_data(pv_farms)\n",
    "te_non_pv_samples = s2_data(pv_farms, invert=True)\n",
    "\n",
    "np.save(f'{data_dir}/s2/germany/extracted_non_temporal/Austria_daily_te_pv_samples.npy', te_pv_samples)\n",
    "np.save(f'{data_dir}/s2/germany/extracted_non_temporal/Austria_daily_te_non_pv_samples.npy', te_non_pv_samples)"
   ]
  },
  {
   "cell_type": "code",
   "execution_count": 94,
   "id": "16b9e5a3-8233-4ea6-ba4a-22731eb34a48",
   "metadata": {
    "tags": []
   },
   "outputs": [],
   "source": [
    "# Stack the samples [PV, non-PV]\n",
    "te_samples = np.vstack([te_pv_samples, te_non_pv_samples])\n",
    "te_samples = te_samples.reshape(te_samples.shape[0], te_samples.shape[1]*te_samples.shape[2])\n",
    "te_samples = np.nan_to_num(te_samples, nan=-999999)\n",
    "\n",
    "# Stach the targets\n",
    "y1 = np.ones(te_pv_samples.shape[0])\n",
    "y0 = np.zeros(te_non_pv_samples.shape[0])\n",
    "y_test = np.hstack([y1, y0])"
   ]
  },
  {
   "cell_type": "code",
   "execution_count": 95,
   "id": "851f7b71-a83e-4479-8e17-68b0ff13f418",
   "metadata": {
    "tags": []
   },
   "outputs": [
    {
     "name": "stdout",
     "output_type": "stream",
     "text": [
      "Test Accuracy Score: 0.583614979045559\n"
     ]
    }
   ],
   "source": [
    "clf = pickle.load(open(f'../models/non_temporal_models/rf_non_temporal_1.sav', 'rb'))\n",
    "te_pred = clf.predict(te_samples)\n",
    "\n",
    "test_score = accuracy_score(te_pred, y_test)\n",
    "print(f'Test Accuracy Score: {test_score}')"
   ]
  },
  {
   "cell_type": "code",
   "execution_count": 97,
   "id": "ce12ff53-b1ca-463c-89c0-fa367e823c3b",
   "metadata": {
    "tags": []
   },
   "outputs": [
    {
     "name": "stdout",
     "output_type": "stream",
     "text": [
      "Test Accuracy Score for PV pixels: 0.3814827706230421\n"
     ]
    }
   ],
   "source": [
    "te_pv_samples = np.load(f'{data_dir}/s2/germany/extracted_non_temporal/Austria_daily_te_pv_samples.npy')\n",
    "\n",
    "te_pv_samples = te_pv_samples.reshape(te_pv_samples.shape[0], te_pv_samples.shape[1]*te_pv_samples.shape[2])\n",
    "te_pv_samples = np.nan_to_num(te_pv_samples, nan=-999999)\n",
    "\n",
    "te_pred = clf.predict(te_pv_samples)\n",
    "\n",
    "test_score = accuracy_score(te_pred, y1)\n",
    "print(f'Test Accuracy Score for PV pixels: {test_score}')"
   ]
  }
 ],
 "metadata": {
  "kernelspec": {
   "display_name": "Python 3 (ipykernel)",
   "language": "python",
   "name": "python3"
  },
  "language_info": {
   "codemirror_mode": {
    "name": "ipython",
    "version": 3
   },
   "file_extension": ".py",
   "mimetype": "text/x-python",
   "name": "python",
   "nbconvert_exporter": "python",
   "pygments_lexer": "ipython3",
   "version": "3.8.16"
  }
 },
 "nbformat": 4,
 "nbformat_minor": 5
}
