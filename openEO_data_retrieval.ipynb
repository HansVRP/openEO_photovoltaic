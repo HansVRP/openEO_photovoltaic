{
 "cells": [
  {
   "cell_type": "code",
   "execution_count": 1,
   "id": "cde2ac95-a679-40c5-9f82-4433871840a3",
   "metadata": {
    "tags": []
   },
   "outputs": [],
   "source": [
    "import os\n",
    "import numpy as np\n",
    "import geopandas as gpd\n",
    "import leafmap\n",
    "import openeo\n",
    "from openeo.processes import lte\n",
    "import xarray as xr\n",
    "import matplotlib.pyplot as plt"
   ]
  },
  {
   "cell_type": "code",
   "execution_count": 2,
   "id": "3acf8e7c-5b9e-496b-a38a-1fc9dfae55d5",
   "metadata": {},
   "outputs": [
    {
     "name": "stdout",
     "output_type": "stream",
     "text": [
      "Number of selected PV Farms: 43\n"
     ]
    }
   ],
   "source": [
    "pv_geoms = gpd.read_file(\"./data/shapefiles/photovoltaic.shp\")\n",
    "\n",
    "threshold_area = 5000 #m^2 ~50mx100m\n",
    "pv_geoms_32632 = pv_geoms.to_crs(32632)\n",
    "big_pv_geoms_32632 = pv_geoms_32632.where(pv_geoms_32632[\"geometry\"].area > threshold_area).dropna()\n",
    "big_pv_geoms = big_pv_geoms_32632.to_crs(4326)\n",
    "print(f\"Number of selected PV Farms: {len(big_pv_geoms_32632)}\")"
   ]
  },
  {
   "cell_type": "markdown",
   "id": "a1255f98-82e8-4124-97e6-15006b4279d5",
   "metadata": {},
   "source": [
    "Visualize a couple of Solar Farms polygons:"
   ]
  },
  {
   "cell_type": "code",
   "execution_count": 3,
   "id": "373d75fd-e39e-44ea-a4a2-f82ff1c54f9b",
   "metadata": {},
   "outputs": [
    {
     "data": {
      "application/vnd.jupyter.widget-view+json": {
       "model_id": "d615863456c749daa7bb443e548122d8",
       "version_major": 2,
       "version_minor": 0
      },
      "text/plain": [
       "Map(center=[48.087, 14.51], controls=(ZoomControl(options=['position', 'zoom_in_text', 'zoom_in_title', 'zoom_…"
      ]
     },
     "execution_count": 3,
     "metadata": {},
     "output_type": "execute_result"
    }
   ],
   "source": [
    "m = leafmap.Map(center=[48.087, 14.51], zoom=17,basemap=\"Esri.WorldImagery\")\n",
    "m.add_gdf(big_pv_geoms, layer_name=\"PV\")\n",
    "m"
   ]
  },
  {
   "cell_type": "markdown",
   "id": "c5d9230d-39b4-45a4-9b18-d87a942ea27b",
   "metadata": {},
   "source": [
    "This data somes from OSM.\n",
    "\n",
    "Can we validate it with the one from DescartesLab?\n",
    "\n",
    "To be sure that the polygons we use are actually covered by PV panels."
   ]
  },
  {
   "cell_type": "markdown",
   "id": "86204690-0798-4ca7-94ca-586e90a3d346",
   "metadata": {},
   "source": [
    "Filtering by size, keeping only the polygons covering a large area (how to defined \"large\"?):"
   ]
  },
  {
   "cell_type": "markdown",
   "id": "55aaa447-b469-478a-8173-77f648535be8",
   "metadata": {},
   "source": [
    "Download the Sentinel-2 data with openEO Platform for each polygon"
   ]
  },
  {
   "cell_type": "code",
   "execution_count": 4,
   "id": "242aa328-e4b7-44a7-bb78-e5d429338819",
   "metadata": {},
   "outputs": [
    {
     "name": "stdout",
     "output_type": "stream",
     "text": [
      "Authenticated using refresh token.\n"
     ]
    }
   ],
   "source": [
    "conn = openeo.connect(\"openeo.cloud\").authenticate_oidc()"
   ]
  },
  {
   "cell_type": "code",
   "execution_count": 5,
   "id": "f2ef60d5-1a4d-4793-ab59-c4edc4cdeef7",
   "metadata": {
    "scrolled": true
   },
   "outputs": [],
   "source": [
    "\n",
    "# for i, geom in big_pv_geoms_32632.iterrows():\n",
    "#     if os.path.exists(f\"S2_2022_{i}.nc\"):\n",
    "#         continue\n",
    "#     print(i)\n",
    "#     print(geom[\"geometry\"])\n",
    "#     aoi = np.round(geom[\"geometry\"].buffer(20).bounds,-1)\n",
    "#     collection = \"SENTINEL2_L2A\"\n",
    "#     spatial_extent = {\"west\": aoi[0],\n",
    "#                       \"east\": aoi[2],\n",
    "#                       \"south\": aoi[1],\n",
    "#                       \"north\": aoi[3],\n",
    "#                      \"crs\":\"EPSG:32632\"}\n",
    "#     temporal_extent = [\"2022-01-01\",\"2022-12-31\"]\n",
    "#     all_bands = [\"B01\",\"B02\",\"B03\",\"B04\",\"B05\",\"B06\",\"B07\",\"B08\",\"B8A\",\"B11\",\"B12\",\"SCL\"]\n",
    "#     properties={\"eo:cloud_cover\": lambda x: lte(x, 50)}\n",
    "    \n",
    "#     s2_cube = conn.load_collection(\n",
    "#         collection,\n",
    "#         temporal_extent = temporal_extent,\n",
    "#         spatial_extent = spatial_extent,\n",
    "#         bands = all_bands,\n",
    "#         properties = properties\n",
    "#     )\n",
    "#     try:\n",
    "#         s2_cube.download(f\"./data/netcdfs/S2_2022_{i}.nc\")\n",
    "#     except:\n",
    "#         continue"
   ]
  },
  {
   "cell_type": "code",
   "execution_count": 6,
   "id": "3928e60d-1682-4178-b5cc-335d0f590e88",
   "metadata": {},
   "outputs": [
    {
     "data": {
      "image/png": "[encoded data removed]",
      "text/plain": [
       "<Figure size 640x480 with 1 Axes>"
      ]
     },
     "metadata": {},
     "output_type": "display_data"
    }
   ],
   "source": [
    "for i, geom in big_pv_geoms_32632.iterrows():\n",
    "    if i==813: # Showing the plot for an area I'm pretty sure it's covered by PV Panels\n",
    "        if not os.path.exists(f\"./data/netcdfs/S2_2022_{i}.nc\"):\n",
    "            continue\n",
    "        data = xr.open_dataset(f\"./data/netcdfs/S2_2022_{i}.nc\",decode_coords=\"all\")\n",
    "        cloud_mask = np.bitwise_or((data.SCL == 8),(data.SCL == 9))\n",
    "        geodf = gpd.GeoDataFrame(geometry=[geom[\"geometry\"]],crs=\"EPSG:32632\")\n",
    "        clipped = data.rio.clip(geodf.geometry.values, geodf.crs, drop=False, invert=False)\n",
    "        clipped = clipped.where(~cloud_mask)\n",
    "        # aoi_mean = clipped.mean(dim=[\"x\",\"y\"],skipna=True).resample({\"t\": \"W\"}).mean() #Resampling to weekly, maybe required to align different time series\n",
    "        aoi_mean = clipped.mean(dim=[\"x\",\"y\"],skipna=True) # Computing the mean over the area which should be covered by the panels. Other statistics can be computed\n",
    "        aoi_mean.B04.plot()\n",
    "        break"
   ]
  },
  {
   "cell_type": "markdown",
   "id": "4b4cf979-f4d1-4f5d-95f4-95ca32a105d0",
   "metadata": {},
   "source": [
    "Now that we have the time series of Sentinel-2 values for the polygons covering the PV Farms:\n",
    "- Do we need other polygons covering the non-PV class?\n",
    "- Can we cluster the current data and check the result? (Don't include the SCL band)\n",
    "- Can we add a filtering of the polygons based on DescartesLab data/result?"
   ]
  }
 ],
 "metadata": {
  "kernelspec": {
   "display_name": "Python 3 (ipykernel)",
   "language": "python",
   "name": "python3"
  },
  "language_info": {
   "codemirror_mode": {
    "name": "ipython",
    "version": 3
   },
   "file_extension": ".py",
   "mimetype": "text/x-python",
   "name": "python",
   "nbconvert_exporter": "python",
   "pygments_lexer": "ipython3",
   "version": "3.10.12"
  }
 },
 "nbformat": 4,
 "nbformat_minor": 5
}
