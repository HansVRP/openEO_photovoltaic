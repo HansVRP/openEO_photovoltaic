{
 "cells": [
  {
   "cell_type": "markdown",
   "id": "ae568901",
   "metadata": {},
   "source": [
    "# Inference with the model on openEO\n",
    "\n",
    "This notebook demonstrates how to use a trained model for inference with onnxruntime in an udf."
   ]
  },
  {
   "cell_type": "code",
   "execution_count": 18,
   "id": "4fd8fe29",
   "metadata": {},
   "outputs": [
    {
     "name": "stdout",
     "output_type": "stream",
     "text": [
      "Authenticated using refresh token.\n"
     ]
    }
   ],
   "source": [
    "# Make the connection and authenticate\n",
    "import openeo\n",
    "\n",
    "#Choose preferred backend\n",
    "conn = openeo.connect(\"https://openeo.vito.be/openeo/\").authenticate_oidc()\n",
    "#conn = openeo.connect(\"https://openeo.dataspace.copernicus.eu/\").authenticate_oidc()\n"
   ]
  },
  {
   "cell_type": "markdown",
   "id": "01e7cb3d",
   "metadata": {},
   "source": [
    "A workflow for processing Sentinel-2 Level-2A earth observation data using openEO in orden to obtain the desired data, compatible with the classifier\n"
   ]
  },
  {
   "cell_type": "code",
   "execution_count": 26,
   "id": "be278dd3-b961-4340-a41b-bdc6ca6a4227",
   "metadata": {
    "tags": []
   },
   "outputs": [
    {
     "data": {
      "text/html": [
       "\n",
       "    <script>\n",
       "    if (!window.customElements || !window.customElements.get('openeo-model-builder')) {\n",
       "        var el = document.createElement('script');\n",
       "        el.src = \"https://cdn.jsdelivr.net/npm/@openeo/vue-components@2/assets/openeo.min.js\";\n",
       "        document.head.appendChild(el);\n",
       "\n",
       "        var font = document.createElement('font');\n",
       "        font.as = \"font\";\n",
       "        font.type = \"font/woff2\";\n",
       "        font.crossOrigin = true;\n",
       "        font.href = \"https://use.fontawesome.com/releases/v5.13.0/webfonts/fa-solid-900.woff2\"\n",
       "        document.head.appendChild(font);\n",
       "    }\n",
       "    </script>\n",
       "    <openeo-model-builder>\n",
       "        <script type=\"application/json\">{\"id\": \"af050c6e175a4ec6ab23ac71ce077c83\", \"explicit-zoom\": true, \"height\": \"400px\", \"value\": {\"process_graph\": {\"textconcat1\": {\"process_id\": \"text_concat\", \"arguments\": {\"data\": [2020, \"01\", \"01\"], \"separator\": \"-\"}}, \"textconcat2\": {\"process_id\": \"text_concat\", \"arguments\": {\"data\": [2020, \"12\", \"31\"], \"separator\": \"-\"}}, \"loadcollection1\": {\"process_id\": \"load_collection\", \"arguments\": {\"bands\": [\"B02\", \"B03\", \"B04\", \"B05\", \"B06\", \"B07\", \"B08\", \"B8A\", \"B11\", \"B12\", \"SCL\"], \"id\": \"SENTINEL2_L2A\", \"properties\": {\"eo:cloud_cover\": {\"process_graph\": {\"lte1\": {\"process_id\": \"lte\", \"arguments\": {\"x\": {\"from_parameter\": \"value\"}, \"y\": 65}, \"result\": true}}}}, \"spatial_extent\": {\"west\": 12.17, \"east\": 12.18, \"south\": 51.46, \"north\": 51.47}, \"temporal_extent\": [{\"from_node\": \"textconcat1\"}, {\"from_node\": \"textconcat2\"}]}}, \"maskscldilation1\": {\"process_id\": \"mask_scl_dilation\", \"arguments\": {\"data\": {\"from_node\": \"loadcollection1\"}, \"scl_band_name\": \"SCL\"}}, \"filterbands1\": {\"process_id\": \"filter_bands\", \"arguments\": {\"bands\": [\"B02\", \"B03\", \"B04\", \"B05\", \"B06\", \"B07\", \"B08\", \"B8A\", \"B11\", \"B12\"], \"data\": {\"from_node\": \"maskscldilation1\"}}}, \"aggregatetemporalperiod1\": {\"process_id\": \"aggregate_temporal_period\", \"arguments\": {\"data\": {\"from_node\": \"filterbands1\"}, \"period\": \"week\", \"reducer\": {\"process_graph\": {\"mean1\": {\"process_id\": \"mean\", \"arguments\": {\"data\": {\"from_parameter\": \"data\"}}, \"result\": true}}}}}, \"applydimension1\": {\"process_id\": \"apply_dimension\", \"arguments\": {\"data\": {\"from_node\": \"aggregatetemporalperiod1\"}, \"dimension\": \"t\", \"process\": {\"process_graph\": {\"arrayinterpolatelinear1\": {\"process_id\": \"array_interpolate_linear\", \"arguments\": {\"data\": {\"from_parameter\": \"data\"}}, \"result\": true}}}}}, \"textconcat3\": {\"process_id\": \"text_concat\", \"arguments\": {\"data\": [2020, \"02\", \"01\"], \"separator\": \"-\"}}, \"textconcat4\": {\"process_id\": \"text_concat\", \"arguments\": {\"data\": [2020, \"11\", \"30\"], \"separator\": \"-\"}}, \"filtertemporal1\": {\"process_id\": \"filter_temporal\", \"arguments\": {\"data\": {\"from_node\": \"applydimension1\"}, \"extent\": [{\"from_node\": \"textconcat3\"}, {\"from_node\": \"textconcat4\"}]}}, \"applydimension2\": {\"process_id\": \"apply_dimension\", \"arguments\": {\"data\": {\"from_node\": \"filtertemporal1\"}, \"dimension\": \"t\", \"process\": {\"process_graph\": {\"arraycreate1\": {\"process_id\": \"array_create\", \"arguments\": {\"data\": {\"from_parameter\": \"data\"}}, \"result\": true}}}, \"target_dimension\": \"bands\"}}, \"renamelabels1\": {\"process_id\": \"rename_labels\", \"arguments\": {\"data\": {\"from_node\": \"applydimension2\"}, \"dimension\": \"bands\", \"target\": [\"B02_t1\", \"B02_t2\", \"B02_t3\", \"B02_t4\", \"B02_t5\", \"B02_t6\", \"B02_t7\", \"B02_t8\", \"B02_t9\", \"B02_t10\", \"B02_t11\", \"B02_t12\", \"B02_t13\", \"B02_t14\", \"B02_t15\", \"B02_t16\", \"B02_t17\", \"B02_t18\", \"B02_t19\", \"B02_t20\", \"B02_t21\", \"B02_t22\", \"B02_t23\", \"B02_t24\", \"B02_t25\", \"B02_t26\", \"B02_t27\", \"B02_t28\", \"B02_t29\", \"B02_t30\", \"B02_t31\", \"B02_t32\", \"B02_t33\", \"B02_t34\", \"B02_t35\", \"B02_t36\", \"B02_t37\", \"B02_t38\", \"B02_t39\", \"B02_t40\", \"B02_t41\", \"B02_t42\", \"B02_t43\", \"B03_t1\", \"B03_t2\", \"B03_t3\", \"B03_t4\", \"B03_t5\", \"B03_t6\", \"B03_t7\", \"B03_t8\", \"B03_t9\", \"B03_t10\", \"B03_t11\", \"B03_t12\", \"B03_t13\", \"B03_t14\", \"B03_t15\", \"B03_t16\", \"B03_t17\", \"B03_t18\", \"B03_t19\", \"B03_t20\", \"B03_t21\", \"B03_t22\", \"B03_t23\", \"B03_t24\", \"B03_t25\", \"B03_t26\", \"B03_t27\", \"B03_t28\", \"B03_t29\", \"B03_t30\", \"B03_t31\", \"B03_t32\", \"B03_t33\", \"B03_t34\", \"B03_t35\", \"B03_t36\", \"B03_t37\", \"B03_t38\", \"B03_t39\", \"B03_t40\", \"B03_t41\", \"B03_t42\", \"B03_t43\", \"B04_t1\", \"B04_t2\", \"B04_t3\", \"B04_t4\", \"B04_t5\", \"B04_t6\", \"B04_t7\", \"B04_t8\", \"B04_t9\", \"B04_t10\", \"B04_t11\", \"B04_t12\", \"B04_t13\", \"B04_t14\", \"B04_t15\", \"B04_t16\", \"B04_t17\", \"B04_t18\", \"B04_t19\", \"B04_t20\", \"B04_t21\", \"B04_t22\", \"B04_t23\", \"B04_t24\", \"B04_t25\", \"B04_t26\", \"B04_t27\", \"B04_t28\", \"B04_t29\", \"B04_t30\", \"B04_t31\", \"B04_t32\", \"B04_t33\", \"B04_t34\", \"B04_t35\", \"B04_t36\", \"B04_t37\", \"B04_t38\", \"B04_t39\", \"B04_t40\", \"B04_t41\", \"B04_t42\", \"B04_t43\", \"B05_t1\", \"B05_t2\", \"B05_t3\", \"B05_t4\", \"B05_t5\", \"B05_t6\", \"B05_t7\", \"B05_t8\", \"B05_t9\", \"B05_t10\", \"B05_t11\", \"B05_t12\", \"B05_t13\", \"B05_t14\", \"B05_t15\", \"B05_t16\", \"B05_t17\", \"B05_t18\", \"B05_t19\", \"B05_t20\", \"B05_t21\", \"B05_t22\", \"B05_t23\", \"B05_t24\", \"B05_t25\", \"B05_t26\", \"B05_t27\", \"B05_t28\", \"B05_t29\", \"B05_t30\", \"B05_t31\", \"B05_t32\", \"B05_t33\", \"B05_t34\", \"B05_t35\", \"B05_t36\", \"B05_t37\", \"B05_t38\", \"B05_t39\", \"B05_t40\", \"B05_t41\", \"B05_t42\", \"B05_t43\", \"B06_t1\", \"B06_t2\", \"B06_t3\", \"B06_t4\", \"B06_t5\", \"B06_t6\", \"B06_t7\", \"B06_t8\", \"B06_t9\", \"B06_t10\", \"B06_t11\", \"B06_t12\", \"B06_t13\", \"B06_t14\", \"B06_t15\", \"B06_t16\", \"B06_t17\", \"B06_t18\", \"B06_t19\", \"B06_t20\", \"B06_t21\", \"B06_t22\", \"B06_t23\", \"B06_t24\", \"B06_t25\", \"B06_t26\", \"B06_t27\", \"B06_t28\", \"B06_t29\", \"B06_t30\", \"B06_t31\", \"B06_t32\", \"B06_t33\", \"B06_t34\", \"B06_t35\", \"B06_t36\", \"B06_t37\", \"B06_t38\", \"B06_t39\", \"B06_t40\", \"B06_t41\", \"B06_t42\", \"B06_t43\", \"B07_t1\", \"B07_t2\", \"B07_t3\", \"B07_t4\", \"B07_t5\", \"B07_t6\", \"B07_t7\", \"B07_t8\", \"B07_t9\", \"B07_t10\", \"B07_t11\", \"B07_t12\", \"B07_t13\", \"B07_t14\", \"B07_t15\", \"B07_t16\", \"B07_t17\", \"B07_t18\", \"B07_t19\", \"B07_t20\", \"B07_t21\", \"B07_t22\", \"B07_t23\", \"B07_t24\", \"B07_t25\", \"B07_t26\", \"B07_t27\", \"B07_t28\", \"B07_t29\", \"B07_t30\", \"B07_t31\", \"B07_t32\", \"B07_t33\", \"B07_t34\", \"B07_t35\", \"B07_t36\", \"B07_t37\", \"B07_t38\", \"B07_t39\", \"B07_t40\", \"B07_t41\", \"B07_t42\", \"B07_t43\", \"B08_t1\", \"B08_t2\", \"B08_t3\", \"B08_t4\", \"B08_t5\", \"B08_t6\", \"B08_t7\", \"B08_t8\", \"B08_t9\", \"B08_t10\", \"B08_t11\", \"B08_t12\", \"B08_t13\", \"B08_t14\", \"B08_t15\", \"B08_t16\", \"B08_t17\", \"B08_t18\", \"B08_t19\", \"B08_t20\", \"B08_t21\", \"B08_t22\", \"B08_t23\", \"B08_t24\", \"B08_t25\", \"B08_t26\", \"B08_t27\", \"B08_t28\", \"B08_t29\", \"B08_t30\", \"B08_t31\", \"B08_t32\", \"B08_t33\", \"B08_t34\", \"B08_t35\", \"B08_t36\", \"B08_t37\", \"B08_t38\", \"B08_t39\", \"B08_t40\", \"B08_t41\", \"B08_t42\", \"B08_t43\", \"B8A_t1\", \"B8A_t2\", \"B8A_t3\", \"B8A_t4\", \"B8A_t5\", \"B8A_t6\", \"B8A_t7\", \"B8A_t8\", \"B8A_t9\", \"B8A_t10\", \"B8A_t11\", \"B8A_t12\", \"B8A_t13\", \"B8A_t14\", \"B8A_t15\", \"B8A_t16\", \"B8A_t17\", \"B8A_t18\", \"B8A_t19\", \"B8A_t20\", \"B8A_t21\", \"B8A_t22\", \"B8A_t23\", \"B8A_t24\", \"B8A_t25\", \"B8A_t26\", \"B8A_t27\", \"B8A_t28\", \"B8A_t29\", \"B8A_t30\", \"B8A_t31\", \"B8A_t32\", \"B8A_t33\", \"B8A_t34\", \"B8A_t35\", \"B8A_t36\", \"B8A_t37\", \"B8A_t38\", \"B8A_t39\", \"B8A_t40\", \"B8A_t41\", \"B8A_t42\", \"B8A_t43\", \"B11_t1\", \"B11_t2\", \"B11_t3\", \"B11_t4\", \"B11_t5\", \"B11_t6\", \"B11_t7\", \"B11_t8\", \"B11_t9\", \"B11_t10\", \"B11_t11\", \"B11_t12\", \"B11_t13\", \"B11_t14\", \"B11_t15\", \"B11_t16\", \"B11_t17\", \"B11_t18\", \"B11_t19\", \"B11_t20\", \"B11_t21\", \"B11_t22\", \"B11_t23\", \"B11_t24\", \"B11_t25\", \"B11_t26\", \"B11_t27\", \"B11_t28\", \"B11_t29\", \"B11_t30\", \"B11_t31\", \"B11_t32\", \"B11_t33\", \"B11_t34\", \"B11_t35\", \"B11_t36\", \"B11_t37\", \"B11_t38\", \"B11_t39\", \"B11_t40\", \"B11_t41\", \"B11_t42\", \"B11_t43\", \"B12_t1\", \"B12_t2\", \"B12_t3\", \"B12_t4\", \"B12_t5\", \"B12_t6\", \"B12_t7\", \"B12_t8\", \"B12_t9\", \"B12_t10\", \"B12_t11\", \"B12_t12\", \"B12_t13\", \"B12_t14\", \"B12_t15\", \"B12_t16\", \"B12_t17\", \"B12_t18\", \"B12_t19\", \"B12_t20\", \"B12_t21\", \"B12_t22\", \"B12_t23\", \"B12_t24\", \"B12_t25\", \"B12_t26\", \"B12_t27\", \"B12_t28\", \"B12_t29\", \"B12_t30\", \"B12_t31\", \"B12_t32\", \"B12_t33\", \"B12_t34\", \"B12_t35\", \"B12_t36\", \"B12_t37\", \"B12_t38\", \"B12_t39\", \"B12_t40\", \"B12_t41\", \"B12_t42\", \"B12_t43\"]}, \"result\": true}}}}</script>\n",
       "    </openeo-model-builder>\n",
       "    "
      ],
      "text/plain": [
       "<openeo.rest.datacube.DataCube at 0x1f3e86db220>"
      ]
     },
     "execution_count": 26,
     "metadata": {},
     "output_type": "execute_result"
    }
   ],
   "source": [
    "# Import necessary utility function\n",
    "from utils import  preprocess_sentinel2_data\n",
    "\n",
    "spatial_extent = {\"west\": 12.17,\n",
    "                  \"east\": 12.18,\n",
    "                  \"south\": 51.46,\n",
    "                  \"north\": 51.47}\n",
    "\n",
    "year = 2020\n",
    "    \n",
    "# Rearrange cube from (time, x, y bands) to (x, y, time*bands)\n",
    "s2_cube = preprocess_sentinel2_data(conn, spatial_extent = spatial_extent, year = year)\n",
    "s2_cube"
   ]
  },
  {
   "cell_type": "markdown",
   "id": "492d7f93",
   "metadata": {},
   "source": [
    "Load in the model from the vito artifactory through the UDF"
   ]
  },
  {
   "cell_type": "code",
   "execution_count": 27,
   "id": "99f6a55f",
   "metadata": {},
   "outputs": [],
   "source": [
    "\n",
    "# Supply the model as a URL. The model is stored in artifactory\n",
    "model_url = \"https://artifactory.vgt.vito.be/artifactory/auxdata-public/photovoltaic/random_forest.onnx\"\n",
    "udf = openeo.UDF.from_file(\n",
    "    \"udf_rf_onnx.py\", \n",
    "    context={\n",
    "        \"model_url\": model_url\n",
    "    }\n",
    ")\n",
    "\n",
    "# Reduce the bands dimesnion to a single prediction using the udf\n",
    "prediction = s2_cube.reduce_bands(reducer=udf)"
   ]
  },
  {
   "cell_type": "markdown",
   "id": "a279051c",
   "metadata": {},
   "source": [
    "Include the ONNX dependencies and excecute the batch job. \n",
    "The outcome is saved as a netCDF."
   ]
  },
  {
   "cell_type": "code",
   "execution_count": 28,
   "id": "de87624f",
   "metadata": {},
   "outputs": [
    {
     "name": "stdout",
     "output_type": "stream",
     "text": [
      "0:00:00 Job 'j-2404044f0c7a417c9962d0014cb41efc': send 'start'\n"
     ]
    },
    {
     "ename": "OpenEoApiError",
     "evalue": "[500] Internal: Server error: Failed to start batch job (YARN submit failure). (ref: r-240404263abf4131b5643ff78cceeac9)",
     "output_type": "error",
     "traceback": [
      "\u001b[1;31m---------------------------------------------------------------------------\u001b[0m",
      "\u001b[1;31mOpenEoApiError\u001b[0m                            Traceback (most recent call last)",
      "Cell \u001b[1;32mIn[28], line 9\u001b[0m\n\u001b[0;32m      2\u001b[0m dependencies_url \u001b[38;5;241m=\u001b[39m \u001b[38;5;124m\"\u001b[39m\u001b[38;5;124mhttps://artifactory.vgt.vito.be/artifactory/auxdata-public/openeo/onnx_dependencies_1.16.3.zip\u001b[39m\u001b[38;5;124m\"\u001b[39m\n\u001b[0;32m      3\u001b[0m job_options \u001b[38;5;241m=\u001b[39m {\n\u001b[0;32m      4\u001b[0m     \u001b[38;5;124m\"\u001b[39m\u001b[38;5;124mudf-dependency-archives\u001b[39m\u001b[38;5;124m\"\u001b[39m: [\n\u001b[0;32m      5\u001b[0m         \u001b[38;5;124mf\u001b[39m\u001b[38;5;124m\"\u001b[39m\u001b[38;5;132;01m{\u001b[39;00mdependencies_url\u001b[38;5;132;01m}\u001b[39;00m\u001b[38;5;124m #onnx_deps\u001b[39m\u001b[38;5;124m\"\u001b[39m\n\u001b[0;32m      6\u001b[0m     ],\n\u001b[0;32m      7\u001b[0m }\n\u001b[1;32m----> 9\u001b[0m prediction_job \u001b[38;5;241m=\u001b[39m \u001b[43mprediction\u001b[49m\u001b[38;5;241;43m.\u001b[39;49m\u001b[43mexecute_batch\u001b[49m\u001b[43m(\u001b[49m\n\u001b[0;32m     10\u001b[0m \u001b[43m    \u001b[49m\u001b[38;5;124;43m\"\u001b[39;49m\u001b[38;5;124;43m./photovoltaic_prediction.nc\u001b[39;49m\u001b[38;5;124;43m\"\u001b[39;49m\u001b[43m,\u001b[49m\n\u001b[0;32m     11\u001b[0m \u001b[43m    \u001b[49m\u001b[43mjob_options\u001b[49m\u001b[38;5;241;43m=\u001b[39;49m\u001b[43mjob_options\u001b[49m\u001b[43m,\u001b[49m\n\u001b[0;32m     12\u001b[0m \u001b[43m    \u001b[49m\u001b[43mtitle\u001b[49m\u001b[38;5;241;43m=\u001b[39;49m\u001b[38;5;124;43m\"\u001b[39;49m\u001b[38;5;124;43mphotovoltaic_prediction\u001b[39;49m\u001b[38;5;124;43m\"\u001b[39;49m\n\u001b[0;32m     13\u001b[0m \u001b[43m)\u001b[49m\n",
      "File \u001b[1;32mc:\\Users\\VROMPAYH\\AppData\\Local\\anaconda3\\envs\\pv_openeo\\lib\\site-packages\\openeo\\rest\\datacube.py:2227\u001b[0m, in \u001b[0;36mDataCube.execute_batch\u001b[1;34m(self, outputfile, out_format, print, max_poll_interval, connection_retry_interval, job_options, validate, **format_options)\u001b[0m\n\u001b[0;32m   2224\u001b[0m     out_format \u001b[38;5;241m=\u001b[39m guess_format(outputfile)\n\u001b[0;32m   2226\u001b[0m job \u001b[38;5;241m=\u001b[39m \u001b[38;5;28mself\u001b[39m\u001b[38;5;241m.\u001b[39mcreate_job(out_format\u001b[38;5;241m=\u001b[39mout_format, job_options\u001b[38;5;241m=\u001b[39mjob_options, validate\u001b[38;5;241m=\u001b[39mvalidate, \u001b[38;5;241m*\u001b[39m\u001b[38;5;241m*\u001b[39mformat_options)\n\u001b[1;32m-> 2227\u001b[0m \u001b[38;5;28;01mreturn\u001b[39;00m \u001b[43mjob\u001b[49m\u001b[38;5;241;43m.\u001b[39;49m\u001b[43mrun_synchronous\u001b[49m\u001b[43m(\u001b[49m\n\u001b[0;32m   2228\u001b[0m \u001b[43m    \u001b[49m\u001b[43moutputfile\u001b[49m\u001b[38;5;241;43m=\u001b[39;49m\u001b[43moutputfile\u001b[49m\u001b[43m,\u001b[49m\n\u001b[0;32m   2229\u001b[0m \u001b[43m    \u001b[49m\u001b[38;5;28;43mprint\u001b[39;49m\u001b[38;5;241;43m=\u001b[39;49m\u001b[38;5;28;43mprint\u001b[39;49m\u001b[43m,\u001b[49m\u001b[43m \u001b[49m\u001b[43mmax_poll_interval\u001b[49m\u001b[38;5;241;43m=\u001b[39;49m\u001b[43mmax_poll_interval\u001b[49m\u001b[43m,\u001b[49m\u001b[43m \u001b[49m\u001b[43mconnection_retry_interval\u001b[49m\u001b[38;5;241;43m=\u001b[39;49m\u001b[43mconnection_retry_interval\u001b[49m\n\u001b[0;32m   2230\u001b[0m \u001b[43m\u001b[49m\u001b[43m)\u001b[49m\n",
      "File \u001b[1;32mc:\\Users\\VROMPAYH\\AppData\\Local\\anaconda3\\envs\\pv_openeo\\lib\\site-packages\\openeo\\rest\\job.py:239\u001b[0m, in \u001b[0;36mBatchJob.run_synchronous\u001b[1;34m(self, outputfile, print, max_poll_interval, connection_retry_interval)\u001b[0m\n\u001b[0;32m    234\u001b[0m \u001b[38;5;28;01mdef\u001b[39;00m \u001b[38;5;21mrun_synchronous\u001b[39m(\n\u001b[0;32m    235\u001b[0m         \u001b[38;5;28mself\u001b[39m, outputfile: Union[\u001b[38;5;28mstr\u001b[39m, Path, \u001b[38;5;28;01mNone\u001b[39;00m] \u001b[38;5;241m=\u001b[39m \u001b[38;5;28;01mNone\u001b[39;00m,\n\u001b[0;32m    236\u001b[0m         \u001b[38;5;28mprint\u001b[39m\u001b[38;5;241m=\u001b[39m\u001b[38;5;28mprint\u001b[39m, max_poll_interval\u001b[38;5;241m=\u001b[39m\u001b[38;5;241m60\u001b[39m, connection_retry_interval\u001b[38;5;241m=\u001b[39m\u001b[38;5;241m30\u001b[39m\n\u001b[0;32m    237\u001b[0m ) \u001b[38;5;241m-\u001b[39m\u001b[38;5;241m>\u001b[39m BatchJob:\n\u001b[0;32m    238\u001b[0m \u001b[38;5;250m    \u001b[39m\u001b[38;5;124;03m\"\"\"Start the job, wait for it to finish and download result\"\"\"\u001b[39;00m\n\u001b[1;32m--> 239\u001b[0m     \u001b[38;5;28;43mself\u001b[39;49m\u001b[38;5;241;43m.\u001b[39;49m\u001b[43mstart_and_wait\u001b[49m\u001b[43m(\u001b[49m\n\u001b[0;32m    240\u001b[0m \u001b[43m        \u001b[49m\u001b[38;5;28;43mprint\u001b[39;49m\u001b[38;5;241;43m=\u001b[39;49m\u001b[38;5;28;43mprint\u001b[39;49m\u001b[43m,\u001b[49m\u001b[43m \u001b[49m\u001b[43mmax_poll_interval\u001b[49m\u001b[38;5;241;43m=\u001b[39;49m\u001b[43mmax_poll_interval\u001b[49m\u001b[43m,\u001b[49m\u001b[43m \u001b[49m\u001b[43mconnection_retry_interval\u001b[49m\u001b[38;5;241;43m=\u001b[39;49m\u001b[43mconnection_retry_interval\u001b[49m\n\u001b[0;32m    241\u001b[0m \u001b[43m    \u001b[49m\u001b[43m)\u001b[49m\n\u001b[0;32m    242\u001b[0m     \u001b[38;5;66;03m# TODO #135 support multi file result sets too?\u001b[39;00m\n\u001b[0;32m    243\u001b[0m     \u001b[38;5;28;01mif\u001b[39;00m outputfile \u001b[38;5;129;01mis\u001b[39;00m \u001b[38;5;129;01mnot\u001b[39;00m \u001b[38;5;28;01mNone\u001b[39;00m:\n",
      "File \u001b[1;32mc:\\Users\\VROMPAYH\\AppData\\Local\\anaconda3\\envs\\pv_openeo\\lib\\site-packages\\openeo\\rest\\job.py:270\u001b[0m, in \u001b[0;36mBatchJob.start_and_wait\u001b[1;34m(self, print, max_poll_interval, connection_retry_interval, soft_error_max)\u001b[0m\n\u001b[0;32m    268\u001b[0m \u001b[38;5;66;03m# TODO: make `max_poll_interval`, `connection_retry_interval` class constants or instance properties?\u001b[39;00m\n\u001b[0;32m    269\u001b[0m print_status(\u001b[38;5;124m\"\u001b[39m\u001b[38;5;124msend \u001b[39m\u001b[38;5;124m'\u001b[39m\u001b[38;5;124mstart\u001b[39m\u001b[38;5;124m'\u001b[39m\u001b[38;5;124m\"\u001b[39m)\n\u001b[1;32m--> 270\u001b[0m \u001b[38;5;28;43mself\u001b[39;49m\u001b[38;5;241;43m.\u001b[39;49m\u001b[43mstart\u001b[49m\u001b[43m(\u001b[49m\u001b[43m)\u001b[49m\n\u001b[0;32m    272\u001b[0m \u001b[38;5;66;03m# TODO: also add  `wait` method so you can track a job that already has started explicitly\u001b[39;00m\n\u001b[0;32m    273\u001b[0m \u001b[38;5;66;03m#   or just rename this method to `wait` and automatically do start if not started yet?\u001b[39;00m\n\u001b[0;32m    274\u001b[0m \n\u001b[0;32m    275\u001b[0m \u001b[38;5;66;03m# Start with fast polling.\u001b[39;00m\n\u001b[0;32m    276\u001b[0m poll_interval \u001b[38;5;241m=\u001b[39m \u001b[38;5;28mmin\u001b[39m(\u001b[38;5;241m5\u001b[39m, max_poll_interval)\n",
      "File \u001b[1;32mc:\\Users\\VROMPAYH\\AppData\\Local\\anaconda3\\envs\\pv_openeo\\lib\\site-packages\\openeo\\rest\\job.py:119\u001b[0m, in \u001b[0;36mBatchJob.start\u001b[1;34m(self)\u001b[0m\n\u001b[0;32m    109\u001b[0m \u001b[38;5;129m@openeo_endpoint\u001b[39m(\u001b[38;5;124m\"\u001b[39m\u001b[38;5;124mPOST /jobs/\u001b[39m\u001b[38;5;132;01m{job_id}\u001b[39;00m\u001b[38;5;124m/results\u001b[39m\u001b[38;5;124m\"\u001b[39m)\n\u001b[0;32m    110\u001b[0m \u001b[38;5;28;01mdef\u001b[39;00m \u001b[38;5;21mstart\u001b[39m(\u001b[38;5;28mself\u001b[39m) \u001b[38;5;241m-\u001b[39m\u001b[38;5;241m>\u001b[39m BatchJob:\n\u001b[0;32m    111\u001b[0m \u001b[38;5;250m    \u001b[39m\u001b[38;5;124;03m\"\"\"\u001b[39;00m\n\u001b[0;32m    112\u001b[0m \u001b[38;5;124;03m    Start this batch job.\u001b[39;00m\n\u001b[0;32m    113\u001b[0m \n\u001b[1;32m   (...)\u001b[0m\n\u001b[0;32m    117\u001b[0m \u001b[38;5;124;03m        This method was previously called :py:meth:`start_job`.\u001b[39;00m\n\u001b[0;32m    118\u001b[0m \u001b[38;5;124;03m    \"\"\"\u001b[39;00m\n\u001b[1;32m--> 119\u001b[0m     \u001b[38;5;28;43mself\u001b[39;49m\u001b[38;5;241;43m.\u001b[39;49m\u001b[43mconnection\u001b[49m\u001b[38;5;241;43m.\u001b[39;49m\u001b[43mpost\u001b[49m\u001b[43m(\u001b[49m\u001b[38;5;124;43mf\u001b[39;49m\u001b[38;5;124;43m\"\u001b[39;49m\u001b[38;5;124;43m/jobs/\u001b[39;49m\u001b[38;5;132;43;01m{\u001b[39;49;00m\u001b[38;5;28;43mself\u001b[39;49m\u001b[38;5;241;43m.\u001b[39;49m\u001b[43mjob_id\u001b[49m\u001b[38;5;132;43;01m}\u001b[39;49;00m\u001b[38;5;124;43m/results\u001b[39;49m\u001b[38;5;124;43m\"\u001b[39;49m\u001b[43m,\u001b[49m\u001b[43m \u001b[49m\u001b[43mexpected_status\u001b[49m\u001b[38;5;241;43m=\u001b[39;49m\u001b[38;5;241;43m202\u001b[39;49m\u001b[43m)\u001b[49m\n\u001b[0;32m    120\u001b[0m     \u001b[38;5;28;01mreturn\u001b[39;00m \u001b[38;5;28mself\u001b[39m\n",
      "File \u001b[1;32mc:\\Users\\VROMPAYH\\AppData\\Local\\anaconda3\\envs\\pv_openeo\\lib\\site-packages\\openeo\\rest\\connection.py:231\u001b[0m, in \u001b[0;36mRestApiConnection.post\u001b[1;34m(self, path, json, **kwargs)\u001b[0m\n\u001b[0;32m    223\u001b[0m \u001b[38;5;28;01mdef\u001b[39;00m \u001b[38;5;21mpost\u001b[39m(\u001b[38;5;28mself\u001b[39m, path: \u001b[38;5;28mstr\u001b[39m, json: Optional[\u001b[38;5;28mdict\u001b[39m] \u001b[38;5;241m=\u001b[39m \u001b[38;5;28;01mNone\u001b[39;00m, \u001b[38;5;241m*\u001b[39m\u001b[38;5;241m*\u001b[39mkwargs) \u001b[38;5;241m-\u001b[39m\u001b[38;5;241m>\u001b[39m Response:\n\u001b[0;32m    224\u001b[0m \u001b[38;5;250m    \u001b[39m\u001b[38;5;124;03m\"\"\"\u001b[39;00m\n\u001b[0;32m    225\u001b[0m \u001b[38;5;124;03m    Do POST request to REST API.\u001b[39;00m\n\u001b[0;32m    226\u001b[0m \n\u001b[1;32m   (...)\u001b[0m\n\u001b[0;32m    229\u001b[0m \u001b[38;5;124;03m    :return: response: Response\u001b[39;00m\n\u001b[0;32m    230\u001b[0m \u001b[38;5;124;03m    \"\"\"\u001b[39;00m\n\u001b[1;32m--> 231\u001b[0m     \u001b[38;5;28;01mreturn\u001b[39;00m \u001b[38;5;28;43mself\u001b[39;49m\u001b[38;5;241;43m.\u001b[39;49m\u001b[43mrequest\u001b[49m\u001b[43m(\u001b[49m\u001b[38;5;124;43m\"\u001b[39;49m\u001b[38;5;124;43mpost\u001b[39;49m\u001b[38;5;124;43m\"\u001b[39;49m\u001b[43m,\u001b[49m\u001b[43m \u001b[49m\u001b[43mpath\u001b[49m\u001b[38;5;241;43m=\u001b[39;49m\u001b[43mpath\u001b[49m\u001b[43m,\u001b[49m\u001b[43m \u001b[49m\u001b[43mjson\u001b[49m\u001b[38;5;241;43m=\u001b[39;49m\u001b[43mjson\u001b[49m\u001b[43m,\u001b[49m\u001b[43m \u001b[49m\u001b[43mallow_redirects\u001b[49m\u001b[38;5;241;43m=\u001b[39;49m\u001b[38;5;28;43;01mFalse\u001b[39;49;00m\u001b[43m,\u001b[49m\u001b[43m \u001b[49m\u001b[38;5;241;43m*\u001b[39;49m\u001b[38;5;241;43m*\u001b[39;49m\u001b[43mkwargs\u001b[49m\u001b[43m)\u001b[49m\n",
      "File \u001b[1;32mc:\\Users\\VROMPAYH\\AppData\\Local\\anaconda3\\envs\\pv_openeo\\lib\\site-packages\\openeo\\rest\\connection.py:770\u001b[0m, in \u001b[0;36mConnection.request\u001b[1;34m(self, method, path, headers, auth, check_error, expected_status, **kwargs)\u001b[0m\n\u001b[0;32m    763\u001b[0m     \u001b[38;5;28;01mreturn\u001b[39;00m \u001b[38;5;28msuper\u001b[39m(Connection, \u001b[38;5;28mself\u001b[39m)\u001b[38;5;241m.\u001b[39mrequest(\n\u001b[0;32m    764\u001b[0m         method\u001b[38;5;241m=\u001b[39mmethod, path\u001b[38;5;241m=\u001b[39mpath, headers\u001b[38;5;241m=\u001b[39mheaders, auth\u001b[38;5;241m=\u001b[39mauth,\n\u001b[0;32m    765\u001b[0m         check_error\u001b[38;5;241m=\u001b[39mcheck_error, expected_status\u001b[38;5;241m=\u001b[39mexpected_status, \u001b[38;5;241m*\u001b[39m\u001b[38;5;241m*\u001b[39mkwargs,\n\u001b[0;32m    766\u001b[0m     )\n\u001b[0;32m    768\u001b[0m \u001b[38;5;28;01mtry\u001b[39;00m:\n\u001b[0;32m    769\u001b[0m     \u001b[38;5;66;03m# Initial request attempt\u001b[39;00m\n\u001b[1;32m--> 770\u001b[0m     \u001b[38;5;28;01mreturn\u001b[39;00m \u001b[43m_request\u001b[49m\u001b[43m(\u001b[49m\u001b[43m)\u001b[49m\n\u001b[0;32m    771\u001b[0m \u001b[38;5;28;01mexcept\u001b[39;00m OpenEoApiError \u001b[38;5;28;01mas\u001b[39;00m api_exc:\n\u001b[0;32m    772\u001b[0m     \u001b[38;5;28;01mif\u001b[39;00m api_exc\u001b[38;5;241m.\u001b[39mhttp_status_code \u001b[38;5;129;01min\u001b[39;00m {\u001b[38;5;241m401\u001b[39m, \u001b[38;5;241m403\u001b[39m} \u001b[38;5;129;01mand\u001b[39;00m api_exc\u001b[38;5;241m.\u001b[39mcode \u001b[38;5;241m==\u001b[39m \u001b[38;5;124m\"\u001b[39m\u001b[38;5;124mTokenInvalid\u001b[39m\u001b[38;5;124m\"\u001b[39m:\n\u001b[0;32m    773\u001b[0m         \u001b[38;5;66;03m# Auth token expired: can we refresh?\u001b[39;00m\n",
      "File \u001b[1;32mc:\\Users\\VROMPAYH\\AppData\\Local\\anaconda3\\envs\\pv_openeo\\lib\\site-packages\\openeo\\rest\\connection.py:763\u001b[0m, in \u001b[0;36mConnection.request.<locals>._request\u001b[1;34m()\u001b[0m\n\u001b[0;32m    762\u001b[0m \u001b[38;5;28;01mdef\u001b[39;00m \u001b[38;5;21m_request\u001b[39m():\n\u001b[1;32m--> 763\u001b[0m     \u001b[38;5;28;01mreturn\u001b[39;00m \u001b[38;5;28;43msuper\u001b[39;49m\u001b[43m(\u001b[49m\u001b[43mConnection\u001b[49m\u001b[43m,\u001b[49m\u001b[43m \u001b[49m\u001b[38;5;28;43mself\u001b[39;49m\u001b[43m)\u001b[49m\u001b[38;5;241;43m.\u001b[39;49m\u001b[43mrequest\u001b[49m\u001b[43m(\u001b[49m\n\u001b[0;32m    764\u001b[0m \u001b[43m        \u001b[49m\u001b[43mmethod\u001b[49m\u001b[38;5;241;43m=\u001b[39;49m\u001b[43mmethod\u001b[49m\u001b[43m,\u001b[49m\u001b[43m \u001b[49m\u001b[43mpath\u001b[49m\u001b[38;5;241;43m=\u001b[39;49m\u001b[43mpath\u001b[49m\u001b[43m,\u001b[49m\u001b[43m \u001b[49m\u001b[43mheaders\u001b[49m\u001b[38;5;241;43m=\u001b[39;49m\u001b[43mheaders\u001b[49m\u001b[43m,\u001b[49m\u001b[43m \u001b[49m\u001b[43mauth\u001b[49m\u001b[38;5;241;43m=\u001b[39;49m\u001b[43mauth\u001b[49m\u001b[43m,\u001b[49m\n\u001b[0;32m    765\u001b[0m \u001b[43m        \u001b[49m\u001b[43mcheck_error\u001b[49m\u001b[38;5;241;43m=\u001b[39;49m\u001b[43mcheck_error\u001b[49m\u001b[43m,\u001b[49m\u001b[43m \u001b[49m\u001b[43mexpected_status\u001b[49m\u001b[38;5;241;43m=\u001b[39;49m\u001b[43mexpected_status\u001b[49m\u001b[43m,\u001b[49m\u001b[43m \u001b[49m\u001b[38;5;241;43m*\u001b[39;49m\u001b[38;5;241;43m*\u001b[39;49m\u001b[43mkwargs\u001b[49m\u001b[43m,\u001b[49m\n\u001b[0;32m    766\u001b[0m \u001b[43m    \u001b[49m\u001b[43m)\u001b[49m\n",
      "File \u001b[1;32mc:\\Users\\VROMPAYH\\AppData\\Local\\anaconda3\\envs\\pv_openeo\\lib\\site-packages\\openeo\\rest\\connection.py:169\u001b[0m, in \u001b[0;36mRestApiConnection.request\u001b[1;34m(self, method, path, headers, auth, check_error, expected_status, **kwargs)\u001b[0m\n\u001b[0;32m    167\u001b[0m expected_status \u001b[38;5;241m=\u001b[39m ensure_list(expected_status) \u001b[38;5;28;01mif\u001b[39;00m expected_status \u001b[38;5;28;01melse\u001b[39;00m []\n\u001b[0;32m    168\u001b[0m \u001b[38;5;28;01mif\u001b[39;00m check_error \u001b[38;5;129;01mand\u001b[39;00m status \u001b[38;5;241m>\u001b[39m\u001b[38;5;241m=\u001b[39m \u001b[38;5;241m400\u001b[39m \u001b[38;5;129;01mand\u001b[39;00m status \u001b[38;5;129;01mnot\u001b[39;00m \u001b[38;5;129;01min\u001b[39;00m expected_status:\n\u001b[1;32m--> 169\u001b[0m     \u001b[38;5;28;43mself\u001b[39;49m\u001b[38;5;241;43m.\u001b[39;49m\u001b[43m_raise_api_error\u001b[49m\u001b[43m(\u001b[49m\u001b[43mresp\u001b[49m\u001b[43m)\u001b[49m\n\u001b[0;32m    170\u001b[0m \u001b[38;5;28;01mif\u001b[39;00m expected_status \u001b[38;5;129;01mand\u001b[39;00m status \u001b[38;5;129;01mnot\u001b[39;00m \u001b[38;5;129;01min\u001b[39;00m expected_status:\n\u001b[0;32m    171\u001b[0m     \u001b[38;5;28;01mraise\u001b[39;00m OpenEoRestError(\u001b[38;5;124m\"\u001b[39m\u001b[38;5;124mGot status code \u001b[39m\u001b[38;5;132;01m{s!r}\u001b[39;00m\u001b[38;5;124m for `\u001b[39m\u001b[38;5;132;01m{m}\u001b[39;00m\u001b[38;5;124m \u001b[39m\u001b[38;5;132;01m{p}\u001b[39;00m\u001b[38;5;124m` (expected \u001b[39m\u001b[38;5;132;01m{e!r}\u001b[39;00m\u001b[38;5;124m) with body \u001b[39m\u001b[38;5;132;01m{body}\u001b[39;00m\u001b[38;5;124m\"\u001b[39m\u001b[38;5;241m.\u001b[39mformat(\n\u001b[0;32m    172\u001b[0m         m\u001b[38;5;241m=\u001b[39mmethod\u001b[38;5;241m.\u001b[39mupper(), p\u001b[38;5;241m=\u001b[39mpath, s\u001b[38;5;241m=\u001b[39mstatus, e\u001b[38;5;241m=\u001b[39mexpected_status, body\u001b[38;5;241m=\u001b[39mresp\u001b[38;5;241m.\u001b[39mtext)\n\u001b[0;32m    173\u001b[0m     )\n",
      "File \u001b[1;32mc:\\Users\\VROMPAYH\\AppData\\Local\\anaconda3\\envs\\pv_openeo\\lib\\site-packages\\openeo\\rest\\connection.py:189\u001b[0m, in \u001b[0;36mRestApiConnection._raise_api_error\u001b[1;34m(self, response)\u001b[0m\n\u001b[0;32m    187\u001b[0m     error_message \u001b[38;5;241m=\u001b[39m info\u001b[38;5;241m.\u001b[39mget(\u001b[38;5;124m\"\u001b[39m\u001b[38;5;124mmessage\u001b[39m\u001b[38;5;124m\"\u001b[39m)\n\u001b[0;32m    188\u001b[0m     \u001b[38;5;28;01mif\u001b[39;00m error_code \u001b[38;5;129;01mand\u001b[39;00m \u001b[38;5;28misinstance\u001b[39m(error_code, \u001b[38;5;28mstr\u001b[39m) \u001b[38;5;129;01mand\u001b[39;00m error_message \u001b[38;5;129;01mand\u001b[39;00m \u001b[38;5;28misinstance\u001b[39m(error_message, \u001b[38;5;28mstr\u001b[39m):\n\u001b[1;32m--> 189\u001b[0m         \u001b[38;5;28;01mraise\u001b[39;00m OpenEoApiError(\n\u001b[0;32m    190\u001b[0m             http_status_code\u001b[38;5;241m=\u001b[39mstatus_code,\n\u001b[0;32m    191\u001b[0m             code\u001b[38;5;241m=\u001b[39merror_code,\n\u001b[0;32m    192\u001b[0m             message\u001b[38;5;241m=\u001b[39merror_message,\n\u001b[0;32m    193\u001b[0m             \u001b[38;5;28mid\u001b[39m\u001b[38;5;241m=\u001b[39minfo\u001b[38;5;241m.\u001b[39mget(\u001b[38;5;124m\"\u001b[39m\u001b[38;5;124mid\u001b[39m\u001b[38;5;124m\"\u001b[39m),\n\u001b[0;32m    194\u001b[0m             url\u001b[38;5;241m=\u001b[39minfo\u001b[38;5;241m.\u001b[39mget(\u001b[38;5;124m\"\u001b[39m\u001b[38;5;124murl\u001b[39m\u001b[38;5;124m\"\u001b[39m),\n\u001b[0;32m    195\u001b[0m         )\n\u001b[0;32m    197\u001b[0m \u001b[38;5;66;03m# Failed to parse it as a compliant openEO API error: show body as-is in the exception.\u001b[39;00m\n\u001b[0;32m    198\u001b[0m text \u001b[38;5;241m=\u001b[39m response\u001b[38;5;241m.\u001b[39mtext\n",
      "\u001b[1;31mOpenEoApiError\u001b[0m: [500] Internal: Server error: Failed to start batch job (YARN submit failure). (ref: r-240404263abf4131b5643ff78cceeac9)"
     ]
    }
   ],
   "source": [
    "# Add the onnx dependencies to the job options. You can reuse this existing dependencies archive\n",
    "dependencies_url = \"https://artifactory.vgt.vito.be/artifactory/auxdata-public/openeo/onnx_dependencies_1.16.3.zip\"\n",
    "job_options = {\n",
    "    \"udf-dependency-archives\": [\n",
    "        f\"{dependencies_url} #onnx_deps\"\n",
    "    ],\n",
    "}\n",
    "\n",
    "prediction_job = prediction.execute_batch(\n",
    "    \"./photovoltaic_prediction.nc\",\n",
    "    job_options=job_options,\n",
    "    title=\"photovoltaic_prediction\"\n",
    ")\n"
   ]
  }
 ],
 "metadata": {
  "kernelspec": {
   "display_name": "Python 3 (ipykernel)",
   "language": "python",
   "name": "python3"
  },
  "language_info": {
   "codemirror_mode": {
    "name": "ipython",
    "version": 3
   },
   "file_extension": ".py",
   "mimetype": "text/x-python",
   "name": "python",
   "nbconvert_exporter": "python",
   "pygments_lexer": "ipython3",
   "version": "3.8.19"
  }
 },
 "nbformat": 4,
 "nbformat_minor": 5
}
