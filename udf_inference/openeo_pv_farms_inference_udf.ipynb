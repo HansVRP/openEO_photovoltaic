{
 "cells": [
  {
   "cell_type": "markdown",
   "id": "ae568901",
   "metadata": {},
   "source": [
    "# Inference with the model on openEO\n",
    "\n",
    "This notebook demonstrates how to use a trained model for inference with onnxruntime in an udf."
   ]
  },
  {
   "cell_type": "code",
   "execution_count": 18,
   "id": "4fd8fe29",
   "metadata": {
    "tags": []
   },
   "outputs": [
    {
     "name": "stdout",
     "output_type": "stream",
     "text": [
      "Authenticated using refresh token.\n"
     ]
    }
   ],
   "source": [
    "# Make the connection and authenticate\n",
    "import openeo\n",
    "\n",
    "#Choose preferred backend\n",
    "conn = openeo.connect(\"https://openeo.cloud/\").authenticate_oidc()\n"
   ]
  },
  {
   "cell_type": "markdown",
   "id": "01e7cb3d",
   "metadata": {},
   "source": [
    "A workflow for processing Sentinel-2 Level-2A earth observation data using openEO in orden to obtain the desired data, compatible with the classifier\n"
   ]
  },
  {
   "cell_type": "code",
   "execution_count": 21,
   "id": "be278dd3-b961-4340-a41b-bdc6ca6a4227",
   "metadata": {
    "tags": []
   },
   "outputs": [],
   "source": [
    "# Load Sentinel-2 Level-2A data cube\n",
    "s2_cube = conn.load_collection(\n",
    "                collection_id = \"SENTINEL2_L2A\",\n",
    "                spatial_extent = {\n",
    "                  \"west\": 16.341922243401232,\n",
    "                  \"east\": 16.41408626641795,\n",
    "                  \"south\": 47.96234024970855,\n",
    "                  \"north\": 48.00780777335356\n",
    "                },\n",
    "                temporal_extent = [\"2023-05-01\",\"2023-09-30\"],\n",
    "                bands = [\"B02\",\"B03\",\"B04\",\"B05\",\"B06\",\"B07\",\"B08\",\"B8A\",\"B11\",\"B12\",\"SCL\"],\n",
    "                properties = {\"eo:cloud_cover\": lambda x: x.lte(65)}\n",
    ")\n",
    "\n",
    "\n",
    "# Create weekly composites by taking the mean\n",
    "s2_cube = s2_cube.process(\"mask_scl_dilation\", data=s2_cube, scl_band_name=\"SCL\").filter_bands(s2_cube.metadata.band_names[:-1])\n",
    "\n",
    "# Create weekly composites by taking the mean\n",
    "s2_cube = s2_cube.aggregate_temporal_period(\n",
    "    period = \"week\",\n",
    "    reducer = \"mean\"\n",
    ")\n",
    "\n",
    "# Fill gaps in the data using linear interpolation\n",
    "s2_cube = s2_cube.apply_dimension(\n",
    "    dimension = \"t\",\n",
    "    process = \"array_interpolate_linear\"\n",
    ")\n",
    "\n",
    "s2_cube_median = s2_cube.reduce_dimension(dimension=\"t\",reducer=\"median\")"
   ]
  },
  {
   "cell_type": "markdown",
   "id": "492d7f93",
   "metadata": {},
   "source": [
    "Load in the model from the vito artifactory and the required dependencies and excecute the prediction job. The output is stored as a netCDF in the local directory"
   ]
  },
  {
   "cell_type": "code",
   "execution_count": 36,
   "id": "99f6a55f",
   "metadata": {
    "tags": []
   },
   "outputs": [
    {
     "name": "stdout",
     "output_type": "stream",
     "text": [
      "0:00:00 Job 'vito-j-2404047545724f1fbee4077369efc126': send 'start'\n",
      "0:00:23 Job 'vito-j-2404047545724f1fbee4077369efc126': queued (progress N/A)\n",
      "0:00:30 Job 'vito-j-2404047545724f1fbee4077369efc126': queued (progress N/A)\n",
      "0:00:37 Job 'vito-j-2404047545724f1fbee4077369efc126': queued (progress N/A)\n",
      "0:00:45 Job 'vito-j-2404047545724f1fbee4077369efc126': queued (progress N/A)\n",
      "0:00:56 Job 'vito-j-2404047545724f1fbee4077369efc126': running (progress N/A)\n",
      "0:01:09 Job 'vito-j-2404047545724f1fbee4077369efc126': running (progress N/A)\n",
      "0:01:25 Job 'vito-j-2404047545724f1fbee4077369efc126': running (progress N/A)\n",
      "0:01:45 Job 'vito-j-2404047545724f1fbee4077369efc126': running (progress N/A)\n",
      "0:02:10 Job 'vito-j-2404047545724f1fbee4077369efc126': running (progress N/A)\n",
      "0:02:41 Job 'vito-j-2404047545724f1fbee4077369efc126': running (progress N/A)\n",
      "0:03:19 Job 'vito-j-2404047545724f1fbee4077369efc126': running (progress N/A)\n",
      "0:04:06 Job 'vito-j-2404047545724f1fbee4077369efc126': running (progress N/A)\n",
      "0:05:05 Job 'vito-j-2404047545724f1fbee4077369efc126': running (progress N/A)\n",
      "0:06:05 Job 'vito-j-2404047545724f1fbee4077369efc126': running (progress N/A)\n",
      "0:07:05 Job 'vito-j-2404047545724f1fbee4077369efc126': running (progress N/A)\n",
      "0:08:06 Job 'vito-j-2404047545724f1fbee4077369efc126': running (progress N/A)\n",
      "0:09:06 Job 'vito-j-2404047545724f1fbee4077369efc126': finished (progress N/A)\n"
     ]
    }
   ],
   "source": [
    "\n",
    "# Supply the model as a URL. The model is stored in artifactory\n",
    "model_url = \"https://artifactory.vgt.vito.be/artifactory/auxdata-public/photovoltaic/rf_1_median_depth_15.onnx\"\n",
    "udf = openeo.UDF.from_file(\n",
    "    \"udf_rf_onnx.py\", \n",
    "    context={\n",
    "        \"model_url\": model_url\n",
    "    }\n",
    ")\n",
    "\n",
    "# Add the onnx dependencies to the job options. You can reuse this existing dependencies archive\n",
    "dependencies_url = \"https://artifactory.vgt.vito.be/artifactory/auxdata-public/openeo/onnx_dependencies_1.16.3.zip\"\n",
    "job_options = {\n",
    "    \"udf-dependency-archives\": [\n",
    "        f\"{dependencies_url}#onnx_deps\"\n",
    "    ],\n",
    "}\n",
    "\n",
    "\n",
    "# Reduce the bands dimesnion to a single prediction using the udf\n",
    "prediction = s2_cube_median.reduce_bands(reducer=udf)\n",
    "\n",
    "# Post-process the data with an opening (erosion + dilation)\n",
    "import numpy as np\n",
    "eroded_cube = (prediction.apply_kernel(kernel=np.ones((3,3)),factor=1/9) >= 1) * 1.0\n",
    "dilated_cube = (eroded_cube.apply_kernel(kernel=np.ones((3,3)),factor=1/9) > 0) * 1.0\n",
    "\n",
    "prediction_job = dilated_cube.execute_batch(\n",
    "    \"./photovoltaic_prediction_median_summer_2023.tiff\",\n",
    "    job_options=job_options,\n",
    "    title=\"photovoltaic_prediction_median_summer_2023\"\n",
    ")\n"
   ]
  },
  {
   "cell_type": "code",
   "execution_count": 37,
   "id": "a483aa5a-0a32-4676-b24a-de9589b9800d",
   "metadata": {
    "tags": []
   },
   "outputs": [
    {
     "data": {
      "text/plain": [
       "<matplotlib.image.AxesImage at 0x7f1387226140>"
      ]
     },
     "execution_count": 37,
     "metadata": {},
     "output_type": "execute_result"
    },
    {
     "data": {
      "image/png": "[encoded data removed]",
      "text/plain": [
       "<Figure size 640x480 with 2 Axes>"
      ]
     },
     "metadata": {},
     "output_type": "display_data"
    }
   ],
   "source": [
    "import rioxarray\n",
    "rioxarray.open_rasterio(\"./photovoltaic_prediction_median_summer_2023.tiff\")[0].plot.imshow()"
   ]
  }
 ],
 "metadata": {
  "kernelspec": {
   "display_name": "Python 3 (ipykernel)",
   "language": "python",
   "name": "python3"
  },
  "language_info": {
   "codemirror_mode": {
    "name": "ipython",
    "version": 3
   },
   "file_extension": ".py",
   "mimetype": "text/x-python",
   "name": "python",
   "nbconvert_exporter": "python",
   "pygments_lexer": "ipython3",
   "version": "3.10.12"
  }
 },
 "nbformat": 4,
 "nbformat_minor": 5
}
