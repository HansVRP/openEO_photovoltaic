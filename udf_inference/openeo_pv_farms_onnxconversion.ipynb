{
 "cells": [
  {
   "cell_type": "markdown",
   "id": "5409400f",
   "metadata": {},
   "source": [
    "# ONNX Conversion \n",
    "\n",
    "This notebook demonstrates how to convert a trained model to the openEO supported ONNX format.\n",
    "New models must be uploaded on the VITO artifactory in order to be accesible for openEO"
   ]
  },
  {
   "cell_type": "code",
   "execution_count": null,
   "id": "9f7e6731",
   "metadata": {},
   "outputs": [],
   "source": [
    "import pickle\n",
    "import urllib.request\n",
    "from utils import *\n",
    "\n",
    "#provide the required information on the input size\n",
    "n_bands = 10\n",
    "n_time = 43 # weeks\n",
    "\n",
    "model_url = \"https://github.com/masawdah/openEO_photovoltaic/raw/main/models/temporal_models/rf_weekly_1.sav\"\n",
    "clf = pickle.load(urllib.request.urlopen(model_url))\n",
    "\n",
    "input_shape = (None, n_bands * n_time) \n",
    "output_folder = './openEO_photovoltaic'\n",
    "convert_sklearn_to_onnx(model_url, input_shape)\n",
    "\n",
    "\n",
    "\n"
   ]
  }
 ],
 "metadata": {
  "kernelspec": {
   "display_name": "Python 3 (ipykernel)",
   "language": "python",
   "name": "python3"
  },
  "language_info": {
   "codemirror_mode": {
    "name": "ipython",
    "version": 3
   },
   "file_extension": ".py",
   "mimetype": "text/x-python",
   "name": "python",
   "nbconvert_exporter": "python",
   "pygments_lexer": "ipython3",
   "version": "3.8.19"
  }
 },
 "nbformat": 4,
 "nbformat_minor": 5
}
