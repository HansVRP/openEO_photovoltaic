{
 "cells": [
  {
   "cell_type": "markdown",
   "metadata": {},
   "source": [
    "# UDP creation for model inference using openEO\n",
    "\n",
    "This notebook demonstrates how to use create a sharable UDP.\n",
    "First we establish a connection and load in he required libraries"
   ]
  },
  {
   "cell_type": "code",
   "execution_count": null,
   "metadata": {},
   "outputs": [],
   "source": [
    "import json\n",
    "import openeo\n",
    "from openeo.api.process import Parameter\n",
    "from utils import  preprocess_sentinel2_data\n",
    "from openeo.rest.udp import build_process_dict\n",
    "\n",
    "\n",
    "#establish connection\n",
    "#conn = openeo.connect(\"https://openeo.cloud/\").authenticate_oidc()\n",
    "conn = openeo.connect(\"https://openeo.dataspace.copernicus.eu/\").authenticate_oidc()"
   ]
  },
  {
   "cell_type": "markdown",
   "metadata": {},
   "source": [
    "Create the process graph\n",
    "\n",
    "Changeable parameters include; the spatial extend, the temporal extend and the model url."
   ]
  },
  {
   "cell_type": "code",
   "execution_count": null,
   "metadata": {},
   "outputs": [],
   "source": [
    "spatial_extent_param = Parameter(\n",
    "    name=\"spatial_extend\",\n",
    "    description=\"The bounding box to load.\",\n",
    "    schema={\n",
    "    \"type\": \"object\",\n",
    "    \"properties\": {\n",
    "        \"west\": {\"type\": \"number\"},\n",
    "        \"south\": {\"type\": \"number\"},\n",
    "        \"east\": {\"type\": \"number\"},\n",
    "        \"north\": {\"type\": \"number\"},\n",
    "        \"crs\": {\"type\": \"string\"}\n",
    "    }\n",
    "},\n",
    ")\n",
    "\n",
    "temporal_extent = Parameter(\n",
    "    name=\"temporal_extent\",\n",
    "    description=\"The date range to calculate the temporal mean for.\",\n",
    "    schema={\"type\": \"array\", \"subtype\": \"temporal-interval\"},\n",
    "    default =[\"2023-05-01\", \"2023-09-30\"])\n",
    "\n",
    "inference_url_param = Parameter.string(\n",
    "    name=\"inference_url\",\n",
    "    default=\"https://artifactory.vgt.vito.be/artifactory/auxdata-public/photovoltaic/rf_1_median_depth_15.onnx\",\n",
    "    description=\"url to the inference network, must be on VITO artifactory\",\n",
    ")"
   ]
  },
  {
   "cell_type": "markdown",
   "metadata": {},
   "source": [
    "Create the processing graph"
   ]
  },
  {
   "cell_type": "code",
   "execution_count": null,
   "metadata": {},
   "outputs": [],
   "source": [
    "from utils import preprocess_sentinel2_data, postprocess_inference_data\n",
    "\n",
    "s2_cube = preprocess_sentinel2_data(conn,  spatial_extent_param, temporal_extent)\n",
    "\n",
    "# Supply the model as a URL. The model is stored in artifactory\n",
    "udf = openeo.UDF.from_file(\n",
    "    \"udf_rf_onnx.py\", \n",
    "    context={\n",
    "        \"model_url\": inference_url_param\n",
    "    }\n",
    ")\n",
    "\n",
    "# Reduce the bands dimension using the inference udf\n",
    "prediction = s2_cube.reduce_bands(reducer=udf)\n",
    "prediction_filtered = postprocess_inference_data(prediction, 3) "
   ]
  },
  {
   "cell_type": "markdown",
   "metadata": {},
   "source": [
    "Store the process graph on the back-end and locally"
   ]
  },
  {
   "cell_type": "code",
   "execution_count": null,
   "metadata": {},
   "outputs": [],
   "source": [
    "#save the graph on the back-end\n",
    "conn.save_user_defined_process(\n",
    "    user_defined_process_id=\"pv_inference\",\n",
    "    process_graph=prediction,\n",
    "    parameters=[spatial_extent_param, temporal_extent, inference_url_param]\n",
    ")\n",
    "\n",
    "#save it locally as a JSON\n",
    "spec = build_process_dict(\n",
    "    process_id=\"pv_inference\",\n",
    "    process_graph=prediction,\n",
    "    parameters=[spatial_extent_param, temporal_extent, inference_url_param]\n",
    "\n",
    ")\n",
    "with open(\"pv_inference.json\", \"w\") as f:\n",
    "    json.dump(spec, f, indent=2)"
   ]
  },
  {
   "cell_type": "markdown",
   "metadata": {},
   "source": [
    "Add the onnx dependencies to the job options. You can reuse this existing dependencies archive.\n",
    "Excecute the batch job."
   ]
  },
  {
   "cell_type": "code",
   "execution_count": null,
   "metadata": {},
   "outputs": [],
   "source": [
    "\n",
    "dependencies_url = \"https://artifactory.vgt.vito.be/artifactory/auxdata-public/openeo/onnx_dependencies_1.16.3.zip\"\n",
    "job_options = {\n",
    "    \"udf-dependency-archives\": [\n",
    "        f\"{dependencies_url}#onnx_deps\" #onnx_deps is not a comment, but part of the string. Do not remove or add spaces.\n",
    "    ],\n",
    "}\n",
    "\n",
    "inference_result = conn.datacube_from_process(\n",
    "    process_id=\"pv_inference\",\n",
    "    spatial_extend={\"west\": 12.17,\n",
    "                    \"east\": 12.18,\n",
    "                    \"south\": 51.46,\n",
    "                    \"north\": 51.47},\n",
    "    temporal_extend = [\"2023-05-01\", \"2023-09-30\"],\n",
    "    inference_url = \"https://artifactory.vgt.vito.be/artifactory/auxdata-public/photovoltaic/rf_1_median_depth_15.onnx\")\n",
    "\n",
    "inference_result.execute_batch(\n",
    "    \"./photovoltaic_prediction.nc\",\n",
    "    job_options=job_options,\n",
    "    title=\"photovoltaic_prediction\"\n",
    ")"
   ]
  }
 ],
 "metadata": {
  "language_info": {
   "name": "python"
  }
 },
 "nbformat": 4,
 "nbformat_minor": 2
}
