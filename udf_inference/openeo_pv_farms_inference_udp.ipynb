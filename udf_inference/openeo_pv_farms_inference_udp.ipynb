{
 "cells": [
  {
   "cell_type": "markdown",
   "metadata": {},
   "source": [
    "# UDP creation for model inference using openEO\n",
    "\n",
    "This notebook demonstrates how to use create a sharable UDP.\n",
    "First we establish a connection and load in he required libraries"
   ]
  },
  {
   "cell_type": "code",
   "execution_count": 6,
   "metadata": {},
   "outputs": [
    {
     "name": "stdout",
     "output_type": "stream",
     "text": [
      "Authenticated using refresh token.\n"
     ]
    }
   ],
   "source": [
    "import json\n",
    "import openeo\n",
    "from urllib.parse import urljoin\n",
    "from openeo.api.process import Parameter\n",
    "from openeo.rest.udp import build_process_dict\n",
    "\n",
    "#establish connection\n",
    "#conn = openeo.connect(\"https://openeo.cloud/\").authenticate_oidc()\n",
    "conn = openeo.connect(\"https://openeo.dataspace.copernicus.eu/\").authenticate_oidc()"
   ]
  },
  {
   "cell_type": "markdown",
   "metadata": {},
   "source": [
    "Create the process graph\n",
    "\n",
    "Changeable parameters include; the spatial extend, the temporal extend and the model url."
   ]
  },
  {
   "cell_type": "code",
   "execution_count": 2,
   "metadata": {},
   "outputs": [],
   "source": [
    "spatial_extent_param = Parameter(\n",
    "    name=\"spatial_extend\",\n",
    "    description=\"The bounding box to load.\",\n",
    "    schema={\n",
    "    \"type\": \"object\",\n",
    "    \"properties\": {\n",
    "        \"west\": {\"type\": \"number\"},\n",
    "        \"south\": {\"type\": \"number\"},\n",
    "        \"east\": {\"type\": \"number\"},\n",
    "        \"north\": {\"type\": \"number\"},\n",
    "        \"crs\": {\"type\": \"string\"}\n",
    "    }\n",
    "},\n",
    ")\n",
    "\n",
    "temporal_extent = Parameter(\n",
    "    name=\"temporal_extent\",\n",
    "    description=\"The date range to calculate the temporal mean for.\",\n",
    "    schema={\"type\": \"array\", \"subtype\": \"temporal-interval\"},\n",
    "    default =[\"2023-05-01\", \"2023-09-30\"])\n",
    "\n",
    "inference_url_param = Parameter.string(\n",
    "    name=\"inference_url\",\n",
    "    default=\"https://artifactory.vgt.vito.be/artifactory/auxdata-public/photovoltaic/rf_1_median_depth_15.onnx\",\n",
    "    description=\"url to the inference network, must be on VITO artifactory\",\n",
    ")"
   ]
  },
  {
   "cell_type": "markdown",
   "metadata": {},
   "source": [
    "Create the processing graph"
   ]
  },
  {
   "cell_type": "code",
   "execution_count": 3,
   "metadata": {},
   "outputs": [],
   "source": [
    "from utils import preprocess_sentinel2_data, postprocess_inference_data\n",
    "\n",
    "s2_cube = preprocess_sentinel2_data(conn,  spatial_extent_param, temporal_extent)\n",
    "\n",
    "# Supply the model as a URL. The model is stored in artifactory\n",
    "udf = openeo.UDF.from_file(\n",
    "    \"udf_rf_onnx.py\", \n",
    "    context={\n",
    "        \"model_url\": inference_url_param\n",
    "    }\n",
    ")\n",
    "\n",
    "# Reduce the bands dimension using the inference udf\n",
    "prediction = s2_cube.reduce_bands(reducer=udf)\n",
    "prediction_filtered = postprocess_inference_data(prediction, 3) "
   ]
  },
  {
   "cell_type": "markdown",
   "metadata": {},
   "source": [
    "Store the process graph on the back-end and locally"
   ]
  },
  {
   "cell_type": "code",
   "execution_count": 4,
   "metadata": {},
   "outputs": [
    {
     "name": "stderr",
     "output_type": "stream",
     "text": [
      "Preflight process graph validation raised: [ProcessParameterRequired] Process 'n/a' parameter 'spatial_extend' is required.\n"
     ]
    }
   ],
   "source": [
    "#provide a UDP ID:\n",
    "UDP_ID = \"pv_inference\"\n",
    "\n",
    "#save the graph on the back-end\n",
    "conn.save_user_defined_process(\n",
    "    user_defined_process_id=UDP_ID,\n",
    "    process_graph=prediction,\n",
    "    parameters=[spatial_extent_param, temporal_extent, inference_url_param]\n",
    ")\n",
    "\n",
    "#save it locally as a JSON\n",
    "spec = build_process_dict(\n",
    "    process_id=UDP_ID,\n",
    "    process_graph=prediction,\n",
    "    parameters=[spatial_extent_param, temporal_extent, inference_url_param]\n",
    "\n",
    ")\n",
    "with open(\"pv_inference.json\", \"w\") as f:\n",
    "    json.dump(spec, f, indent=2)"
   ]
  },
  {
   "cell_type": "markdown",
   "metadata": {},
   "source": [
    "# Example on UDP excecution\n",
    "\n",
    "Add the onnx dependencies to the job options. Provide parameters\n",
    "Excecute the batch job."
   ]
  },
  {
   "cell_type": "code",
   "execution_count": 5,
   "metadata": {},
   "outputs": [
    {
     "name": "stderr",
     "output_type": "stream",
     "text": [
      "Preflight process graph validation raised: [ProcessUnsupported] Process with identifier 'pv_inference' is not available in namespace 'backend'.\n"
     ]
    },
    {
     "name": "stdout",
     "output_type": "stream",
     "text": [
      "0:00:00 Job 'j-2404088a49fa43b1a9d7f0160fdc00aa': send 'start'\n",
      "0:00:24 Job 'j-2404088a49fa43b1a9d7f0160fdc00aa': created (progress N/A)\n",
      "0:00:30 Job 'j-2404088a49fa43b1a9d7f0160fdc00aa': running (progress N/A)\n",
      "0:00:36 Job 'j-2404088a49fa43b1a9d7f0160fdc00aa': running (progress N/A)\n",
      "0:00:44 Job 'j-2404088a49fa43b1a9d7f0160fdc00aa': running (progress N/A)\n",
      "0:01:03 Job 'j-2404088a49fa43b1a9d7f0160fdc00aa': running (progress N/A)\n",
      "0:01:16 Job 'j-2404088a49fa43b1a9d7f0160fdc00aa': running (progress N/A)\n",
      "0:01:31 Job 'j-2404088a49fa43b1a9d7f0160fdc00aa': running (progress N/A)\n",
      "0:01:51 Job 'j-2404088a49fa43b1a9d7f0160fdc00aa': running (progress N/A)\n",
      "0:02:18 Job 'j-2404088a49fa43b1a9d7f0160fdc00aa': running (progress N/A)\n",
      "0:02:48 Job 'j-2404088a49fa43b1a9d7f0160fdc00aa': running (progress N/A)\n",
      "0:03:25 Job 'j-2404088a49fa43b1a9d7f0160fdc00aa': running (progress N/A)\n",
      "0:04:12 Job 'j-2404088a49fa43b1a9d7f0160fdc00aa': finished (progress N/A)\n"
     ]
    },
    {
     "data": {
      "text/html": [
       "\n",
       "    <script>\n",
       "    if (!window.customElements || !window.customElements.get('openeo-job')) {\n",
       "        var el = document.createElement('script');\n",
       "        el.src = \"https://cdn.jsdelivr.net/npm/@openeo/vue-components@2/assets/openeo.min.js\";\n",
       "        document.head.appendChild(el);\n",
       "\n",
       "        var font = document.createElement('font');\n",
       "        font.as = \"font\";\n",
       "        font.type = \"font/woff2\";\n",
       "        font.crossOrigin = true;\n",
       "        font.href = \"https://use.fontawesome.com/releases/v5.13.0/webfonts/fa-solid-900.woff2\"\n",
       "        document.head.appendChild(font);\n",
       "    }\n",
       "    </script>\n",
       "    <openeo-job>\n",
       "        <script type=\"application/json\">{\"currency\": \"credits\", \"job\": {\"costs\": 2.0, \"created\": \"2024-04-08T12:38:47Z\", \"id\": \"j-2404088a49fa43b1a9d7f0160fdc00aa\", \"process\": {\"process_graph\": {\"pvinference1\": {\"arguments\": {\"inference_url\": \"https://artifactory.vgt.vito.be/artifactory/auxdata-public/photovoltaic/rf_1_median_depth_15.onnx\", \"spatial_extend\": {\"east\": 12.18, \"north\": 51.47, \"south\": 51.46, \"west\": 12.17}, \"temporal_extend\": [\"2023-05-01\", \"2023-09-30\"]}, \"process_id\": \"pv_inference\"}, \"saveresult1\": {\"arguments\": {\"data\": {\"from_node\": \"pvinference1\"}, \"format\": \"netCDF\", \"options\": {}}, \"process_id\": \"save_result\", \"result\": true}}}, \"status\": \"finished\", \"title\": \"photovoltaic_prediction\", \"updated\": \"2024-04-08T12:42:30Z\", \"usage\": {\"cpu\": {\"unit\": \"cpu-seconds\", \"value\": 515.386223082}, \"duration\": {\"unit\": \"seconds\", \"value\": 192}, \"input_pixel\": {\"unit\": \"mega-pixel\", \"value\": 17.1875}, \"max_executor_memory\": {\"unit\": \"gb\", \"value\": 3.0250091552734375}, \"memory\": {\"unit\": \"mb-seconds\", \"value\": 3249845.25}, \"network_received\": {\"unit\": \"b\", \"value\": 16599695578.0}}}}</script>\n",
       "    </openeo-job>\n",
       "    "
      ],
      "text/plain": [
       "<BatchJob job_id='j-2404088a49fa43b1a9d7f0160fdc00aa'>"
      ]
     },
     "execution_count": 5,
     "metadata": {},
     "output_type": "execute_result"
    }
   ],
   "source": [
    "\n",
    "inference_result = conn.datacube_from_process(\n",
    "    process_id=UDP_ID,\n",
    "    spatial_extend={\"west\": 12.17,\n",
    "                    \"east\": 12.18,\n",
    "                    \"south\": 51.46,\n",
    "                    \"north\": 51.47},\n",
    "    temporal_extend = [\"2023-05-01\", \"2023-09-30\"],\n",
    "    inference_url = \"https://artifactory.vgt.vito.be/artifactory/auxdata-public/photovoltaic/rf_1_median_depth_15.onnx\")\n",
    "\n",
    "inference_result.execute_batch(\n",
    "    \"./photovoltaic_prediction.nc\",\n",
    "    title=\"photovoltaic_prediction\"\n",
    ")"
   ]
  }
 ],
 "metadata": {
  "kernelspec": {
   "display_name": "Python 3",
   "language": "python",
   "name": "python3"
  },
  "language_info": {
   "codemirror_mode": {
    "name": "ipython",
    "version": 3
   },
   "file_extension": ".py",
   "mimetype": "text/x-python",
   "name": "python",
   "nbconvert_exporter": "python",
   "pygments_lexer": "ipython3",
   "version": "3.8.19"
  }
 },
 "nbformat": 4,
 "nbformat_minor": 2
}
